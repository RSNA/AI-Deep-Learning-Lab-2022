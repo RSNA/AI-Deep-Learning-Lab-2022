{
  "nbformat": 4,
  "nbformat_minor": 0,
  "metadata": {
    "colab": {
      "provenance": [],
      "toc_visible": true,
      "collapsed_sections": [
        "tn0jAUfHW5ZU"
      ],
      "include_colab_link": true
    },
    "kernelspec": {
      "name": "python3",
      "display_name": "Python 3"
    },
    "language_info": {
      "name": "python"
    }
  },
  "cells": [
    {
      "cell_type": "markdown",
      "metadata": {
        "id": "view-in-github",
        "colab_type": "text"
      },
      "source": [
        "<a href=\"https://colab.research.google.com/github/gunvantc/AI-Deep-Learning-Lab-2022/blob/GC-nb-0/sessions/nlp-basics/DLL03_Basics_NLP_Radiology.ipynb\" target=\"_parent\"><img src=\"https://colab.research.google.com/assets/colab-badge.svg\" alt=\"Open In Colab\"/></a>"
      ]
    },
    {
      "cell_type": "markdown",
      "metadata": {
        "id": "Aa9xRyBkjaPF"
      },
      "source": [
        "# DLL 03 Deep Learning Lab: Basics of NLP in Radiology - RSNA 2022\n",
        "\n",
        "This session will feature a brief lecture introducing the basics of natural language processing (NLP) and highlight potential uses for it in radiology. This accompanying notebook will provide hands-on opportunity to explore some of the basic tools of NLP available in Python. \n",
        "\n",
        "**Learning Objectives:**\n",
        "1.   Understand common terminology and preprocessing techniques in NLP\n",
        "2.   Identify several classic and modern approaches used to capture semantic meaning in text\n",
        "3.   Learn how to implement a basic NLP pipeline from preprocessing to performance evaluation\n",
        "\n",
        "**Recommended Pre-requisites:**\n",
        "1.   Basic python syntax\n",
        "2.   Basic usage of python notebooks\n",
        "\n",
        "**Session Authors**\n",
        "\n",
        "Timothy L. Chen MD - University of California San Francisco, San Francisco, USA\n",
        "\n",
        "Gunvant R. Chaudhari - University of California San Francisco, San Francisco, USA\n",
        "\n",
        "Jae Ho Sohn MD, MS - University of California San Francisco, San Francisco, USA\n",
        "\n",
        "\n",
        "\n"
      ]
    },
    {
      "cell_type": "markdown",
      "metadata": {
        "id": "rFZdK4accSlG"
      },
      "source": [
        "# Install Packages\n",
        "\n",
        "We will use a number of prepackaged python NLP tools for this demonstration. Google colab instances come preloaded with a number of packages but not everything. We will install the missing packages here.\n",
        "\n",
        "Natural Language Toolkit ([NLTK](https://www.nltk.org/))\n",
        "\n",
        "[spacy](https://spacy.io/) and [scispacy](https://allenai.github.io/scispacy/)\n",
        "\n",
        "[gensim](https://radimrehurek.com/gensim/)\n",
        "\n",
        "[sklearn](https://scikit-learn.org/stable/)\n",
        "\n",
        "\n",
        "\n",
        "\n"
      ]
    },
    {
      "cell_type": "code",
      "metadata": {
        "id": "W4QbilZBcYyx"
      },
      "source": [
        "#@title Installing missing required packages\n",
        "!pip install xmltodict >/dev/null\n",
        "!pip install spacy > /dev/null \n",
        "!pip install scispacy > /dev/null\n",
        "!pip install negspacy > /dev/null\n",
        "!pip install https://s3-us-west-2.amazonaws.com/ai2-s2-scispacy/releases/v0.5.1/en_core_sci_md-0.5.1.tar.gz > /dev/null\n",
        "\n",
        "#! pip freeze"
      ],
      "execution_count": null,
      "outputs": []
    },
    {
      "cell_type": "markdown",
      "metadata": {
        "id": "NxJj3ct4Q58_"
      },
      "source": [
        "# Acquiring Data\n",
        "\n",
        "This demo will utilize data from the [Indiana University CXR dataset](https://openi.nlm.nih.gov/faq). \n",
        "\n",
        "More information regarding the creation of this dataset is detailed in [1] *Demner-Fushman et. al. \"Preparing a collection of radiology examinations for distirbution and retrieval\". J. Am. Med. Inform. Assoc. 2016. doi: [10.1093/jamia/ocv080](https://academic.oup.com/jamia/article/23/2/304/2572395)*"
      ]
    },
    {
      "cell_type": "code",
      "metadata": {
        "colab": {
          "base_uri": "https://localhost:8080/"
        },
        "id": "LdlPCIiCLYHe",
        "outputId": "bc0634bb-2086-4946-90df-a0f7043c5b86"
      },
      "source": [
        "# Download the data\n",
        "# tar options - x -extract, v - show progress of archive file, z - filter archive through gzip\n",
        "!curl https://openi.nlm.nih.gov/imgs/collections/NLMCXR_reports.tgz > NLMCXR_reports.tgz\n",
        "!tar xvf /content/NLMCXR_reports.tgz >/dev/null\n"
      ],
      "execution_count": 2,
      "outputs": [
        {
          "output_type": "stream",
          "name": "stdout",
          "text": [
            "  % Total    % Received % Xferd  Average Speed   Time    Time     Time  Current\n",
            "                                 Dload  Upload   Total   Spent    Left  Speed\n",
            "100 1086k  100 1086k    0     0  2757k      0 --:--:-- --:--:-- --:--:-- 2750k\n"
          ]
        }
      ]
    },
    {
      "cell_type": "code",
      "metadata": {
        "id": "mAsCZXsE-HQe",
        "colab": {
          "base_uri": "https://localhost:8080/"
        },
        "outputId": "879a7f8b-1c92-4ff3-cb2d-2af142350c6b"
      },
      "source": [
        "# taking a closer look at our file hierarchy\n",
        "!dir"
      ],
      "execution_count": 3,
      "outputs": [
        {
          "output_type": "stream",
          "name": "stdout",
          "text": [
            "ecgen-radiology  NLMCXR_reports.tgz  sample_data\n"
          ]
        }
      ]
    },
    {
      "cell_type": "markdown",
      "metadata": {
        "id": "rPkhaPx3gXmI"
      },
      "source": [
        "With permission from [2] Wiggins et. al., we borrow code to parse the xml. More information about this code can be found here: [Natural Language Processing of Radiology Text Reports: Interactive Text Classification](https://pubs.rsna.org/doi/full/10.1148/ryai.2021210035)\n",
        "\n",
        "The XML file format stores data under various headers which we store as key-value pairs in a python dictionary object.\n",
        "\n",
        "Here we first examine the data stucture of one such xml using an explicit file path. We want to extract the relevant text information from each file. We are interested in the text from the \"FINDINGS\" AND \"IMPRESSION\" keys. In addition, the reports are labeled as normal under the MeSH key - we will use this for labeling the reports as normal (if normal is present under MeSH) or abnormal.\n",
        "\n",
        "If we closely examine the data, there are some oddities. Some entries are multiple xrays together. For example, 875.xml contains text for both CXR and a knee X-ray. Some CXR have no text under FINDINGS and IMPRESSION. For some chest x-ray, there is no label given (\"No Indexing\"). These \"No Indexing\" labels will be considered as normal for this exercise. "
      ]
    },
    {
      "cell_type": "code",
      "metadata": {
        "id": "MIA9a7rckKil"
      },
      "source": [
        "import xmltodict\n",
        "\n",
        "# function from Wiggins et. al.\n",
        "def xml_parse(f):\n",
        "  with open(f) as xml:\n",
        "    report_dict = xmltodict.parse(xml.read())\n",
        "    xml.close()\n",
        "  return report_dict"
      ],
      "execution_count": 4,
      "outputs": []
    },
    {
      "cell_type": "markdown",
      "metadata": {
        "id": "GeqrbiKb2R_z"
      },
      "source": [
        "Let's take a look at a random xml file and see the contents after parsing"
      ]
    },
    {
      "cell_type": "code",
      "metadata": {
        "colab": {
          "base_uri": "https://localhost:8080/"
        },
        "id": "vptTTkdh2RbE",
        "outputId": "a98071eb-63b4-4ab6-fceb-c3c3bfcfbeea"
      },
      "source": [
        "reportdict_1 = xml_parse(\"./ecgen-radiology/1404.xml\")\n",
        "reportdict_1"
      ],
      "execution_count": 5,
      "outputs": [
        {
          "output_type": "execute_result",
          "data": {
            "text/plain": [
              "{'eCitation': {'meta': {'@type': 'rr'},\n",
              "  'uId': {'@id': 'CXR1404'},\n",
              "  'pmcId': {'@id': '1404'},\n",
              "  'docSource': 'CXR',\n",
              "  'IUXRId': {'@id': '1404'},\n",
              "  'licenseType': 'open-access',\n",
              "  'licenseURL': 'http://creativecommons.org/licenses/by-nc-nd/4.0/',\n",
              "  'ccLicense': 'byncnd',\n",
              "  'articleURL': None,\n",
              "  'articleDate': '2013-08-01',\n",
              "  'articleType': 'XR',\n",
              "  'publisher': 'Indiana University',\n",
              "  'title': 'Indiana University Chest X-ray Collection',\n",
              "  'note': 'The data are drawn from multiple hospital systems.',\n",
              "  'specialty': 'pulmonary diseases',\n",
              "  'subset': 'CXR',\n",
              "  'MedlineCitation': {'@Owner': 'Indiana University',\n",
              "   '@Status': 'supplied by publisher',\n",
              "   'Article': {'@PubModel': 'Electronic',\n",
              "    'Journal': {'JournalIssue': {'PubDate': {'Year': '2013',\n",
              "       'Month': '08',\n",
              "       'Day': '01'}}},\n",
              "    'ArticleTitle': 'Indiana University Chest X-ray Collection',\n",
              "    'Abstract': {'AbstractText': [{'@Label': 'COMPARISON', '#text': 'XXXX'},\n",
              "      {'@Label': 'INDICATION',\n",
              "       '#text': 'XXXX year old with chest pain, shortness of breath, hypertension.'},\n",
              "      {'@Label': 'FINDINGS',\n",
              "       '#text': 'No focal lung consolidation. Heart size and pulmonary vascularity are within normal limits. No pneumothorax or pleural effusion. No acute bony abnormalities. There are stable anterior wedge XXXX deformities of 2 midthoracic vertebral bodies.'},\n",
              "      {'@Label': 'IMPRESSION',\n",
              "       '#text': '1. No acute findings. 2. Stable midthoracic vertebral body XXXX fractures.'}]},\n",
              "    'Affiliation': 'Indiana University',\n",
              "    'AuthorList': {'@CompleteYN': 'Y',\n",
              "     'Author': [{'@ValidYN': 'Y',\n",
              "       'LastName': 'Kohli',\n",
              "       'ForeName': 'Marc',\n",
              "       'Initials': 'MD'},\n",
              "      {'@ValidYN': 'Y',\n",
              "       'LastName': 'Rosenman',\n",
              "       'ForeName': 'Marc',\n",
              "       'Initials': 'M'}]},\n",
              "    'Language': 'eng',\n",
              "    'PublicationTypeList': {'PublicationType': 'Radiology Report'},\n",
              "    'ArticleDate': {'Year': '2013', 'Month': '08', 'Day': '01'}},\n",
              "   'EssieArticleTitle': 'Indiana University Chest X-ray Collection',\n",
              "   'IMedAuthor': ['Marc David Kohli MD', 'Marc Rosenman M']},\n",
              "  'MeSH': {'major': ['Deformity/thoracic vertebrae/anterior/multiple',\n",
              "    'Fractures, Bone/Thoracic Vertebrae'],\n",
              "   'automatic': ['deformity', 'fracture', 'Spinal Fractures', 'Spine']},\n",
              "  'parentImage': [{'@id': 'CXR1404_IM-0258-1001',\n",
              "    'figureId': 'F1',\n",
              "    'caption': 'CHEST PA and Lateral on XXXX, XXXX',\n",
              "    'panel': {'@type': 'single',\n",
              "     'url': '/hadoop/storage/radiology/extract/CXR1404_IM-0258-1001.jpg',\n",
              "     'imgModality': '7',\n",
              "     'region': {'@type': 'panel',\n",
              "      'globalImageFeatures': {'CEDD': 'f2p0k680',\n",
              "       'ColorLayout': 'f1p0k26',\n",
              "       'EdgeHistogram': 'f0p0k338',\n",
              "       'FCTH': 'f4p0k369',\n",
              "       'SemanticContext60': 'f3p0k74'}}}},\n",
              "   {'@id': 'CXR1404_IM-0258-2001',\n",
              "    'figureId': 'F2',\n",
              "    'caption': 'CHEST PA and Lateral on XXXX, XXXX',\n",
              "    'panel': {'@type': 'single',\n",
              "     'url': '/hadoop/storage/radiology/extract/CXR1404_IM-0258-2001.jpg',\n",
              "     'imgModality': '7',\n",
              "     'region': {'@type': 'panel',\n",
              "      'globalImageFeatures': {'CEDD': 'f2p0k1637',\n",
              "       'ColorLayout': 'f1p0k25',\n",
              "       'EdgeHistogram': 'f0p0k518',\n",
              "       'FCTH': 'f4p0k1142',\n",
              "       'SemanticContext60': 'f3p0k151'}}}}]}}"
            ]
          },
          "metadata": {},
          "execution_count": 5
        }
      ]
    },
    {
      "cell_type": "markdown",
      "metadata": {
        "id": "kBZb655Tp2qp"
      },
      "source": [
        "\n",
        "The entirety of the of the xml data files were uncompressed into the \"ecgen-radiology\" folder, so we will need to go through each file and extract the relevant information. The [glob](https://docs.python.org/3/library/glob.html) function in the glob module makes this easy by matching all files whose pathname matches a given pattern using [fnmatch](https://docs.python.org/3/library/fnmatch.html#module-fnmatch)\n",
        "\n",
        "Additionally, we will extract relevant information from each xml file and store it into a pandas dataframe (which is basically a table)."
      ]
    },
    {
      "cell_type": "code",
      "metadata": {
        "id": "k-N2UbgWnU8P"
      },
      "source": [
        "# functions from Wiggins et. al. , slightly modified to remove dependence on fastai L class\n",
        "\n",
        "def get_label(report):\n",
        "    label = report['eCitation']['MeSH']['major']\n",
        "    return 'normal' if label == 'normal' or label == \"No Indexing\" else 'abnormal'\n",
        "\n",
        "# return a dictionary with various report components\n",
        "def get_text(report):\n",
        "    text_dict = {}\n",
        "    text_dict['id'] = report['eCitation']['IUXRId']['@id']\n",
        "    text = report['eCitation']['MedlineCitation']['Article']['Abstract']['AbstractText']\n",
        "    findings = text[2]['#text'] if '#text' in text[2] else ''\n",
        "    text_dict['findings'] = findings\n",
        "    impression = text[3]['#text'] if '#text' in text[3] else ''\n",
        "    text_dict['impression'] = impression\n",
        "    text_dict['full-text'] = ' '.join([findings, impression])\n",
        "    return text_dict\n",
        "\n",
        "# return dictionary with one report's components and label\n",
        "def process_report(report):\n",
        "    label = get_label(report)\n",
        "    report_dict = get_text(report)\n",
        "    report_dict['label'] = label\n",
        "    return report_dict\n"
      ],
      "execution_count": 6,
      "outputs": []
    },
    {
      "cell_type": "code",
      "metadata": {
        "id": "tLhLsKYJoces"
      },
      "source": [
        "import glob\n",
        "import pandas as pd\n",
        "\n",
        "files = glob.glob(\"./ecgen-radiology/*\")\n",
        "reports = list()\n",
        "reports_unlabeled = list()\n",
        "\n",
        "for file in files:\n",
        "  report_extract = xml_parse(file)\n",
        "  if report_extract['eCitation']['MeSH']['major'] == \"No Indexing\":\n",
        "    reports_unlabeled.append(file)\n",
        "    \n",
        "  reports.append(process_report(report_extract))\n",
        "  \n",
        "reports_df = pd.DataFrame(reports)\n"
      ],
      "execution_count": 7,
      "outputs": []
    },
    {
      "cell_type": "markdown",
      "metadata": {
        "id": "p48E2P5r2wMh"
      },
      "source": [
        "Let's examine some of the data in our table\n",
        "\n",
        "The .head() function will return the first n rows (default 5) of the table. The .sample() method will randomly choose n rows of the table to display (default is 1)"
      ]
    },
    {
      "cell_type": "code",
      "metadata": {
        "colab": {
          "base_uri": "https://localhost:8080/",
          "height": 545
        },
        "id": "kpOxPVK1uzHv",
        "outputId": "d406e79e-f2c5-45ee-d474-8f43f0356890"
      },
      "source": [
        "print(\"# of reports:\",reports_df.shape[0])\n",
        "pd.options.display.max_colwidth = 0\n",
        "reports_df.head()"
      ],
      "execution_count": 8,
      "outputs": [
        {
          "output_type": "stream",
          "name": "stdout",
          "text": [
            "# of reports: 3955\n"
          ]
        },
        {
          "output_type": "execute_result",
          "data": {
            "text/plain": [
              "     id  \\\n",
              "0  1222   \n",
              "1  3147   \n",
              "2  931    \n",
              "3  460    \n",
              "4  293    \n",
              "\n",
              "                                                                                                                                                                                                                                                                                          findings  \\\n",
              "0  The heart and lungs have XXXX XXXX in the interval. Both lungs are clear and expanded. Heart and mediastinum normal.                                                                                                                                                                              \n",
              "1  The lungs are clear. The cardiomediastinal silhouette is within normal limits. No pneumothorax or pleural effusion.                                                                                                                                                                               \n",
              "2  The lungs and pleural spaces show no acute abnormality. Heart size and pulmonary vascularity within normal limits.                                                                                                                                                                                \n",
              "3  The lungs and pleural spaces show no acute abnormality. Heart size and pulmonary vascularity within normal limits. Mild tortuosity of the thoracic aorta, unchanged                                                                                                                               \n",
              "4  Sternotomy XXXX mediastinal clips noted. Heart size within normal limits. Negative for focal pulmonary consolidation, pleural effusion, or pneumothorax. There is XXXX deformity of T6, XXXX since X-XXXX thoracic spine XXXX, XXXX. Mild XXXX deformity of T12, stable. Prior cholecystectomy.   \n",
              "\n",
              "                                                                                                                       impression  \\\n",
              "0  No active disease.                                                                                                               \n",
              "1  Negative chest .                                                                                                                 \n",
              "2  1. No acute pulmonary abnormality.                                                                                               \n",
              "3  1. No acute pulmonary abnormality.                                                                                               \n",
              "4  1. No definite evidence of metastatic disease. 2. Age-indeterminate XXXX deformity of T6, XXXX since study dated XXXX, XXXX. .   \n",
              "\n",
              "                                                                                                                                                                                                                                                                                                                                                                                                                        full-text  \\\n",
              "0  The heart and lungs have XXXX XXXX in the interval. Both lungs are clear and expanded. Heart and mediastinum normal. No active disease.                                                                                                                                                                                                                                                                                          \n",
              "1  The lungs are clear. The cardiomediastinal silhouette is within normal limits. No pneumothorax or pleural effusion. Negative chest .                                                                                                                                                                                                                                                                                             \n",
              "2  The lungs and pleural spaces show no acute abnormality. Heart size and pulmonary vascularity within normal limits. 1. No acute pulmonary abnormality.                                                                                                                                                                                                                                                                            \n",
              "3  The lungs and pleural spaces show no acute abnormality. Heart size and pulmonary vascularity within normal limits. Mild tortuosity of the thoracic aorta, unchanged 1. No acute pulmonary abnormality.                                                                                                                                                                                                                           \n",
              "4  Sternotomy XXXX mediastinal clips noted. Heart size within normal limits. Negative for focal pulmonary consolidation, pleural effusion, or pneumothorax. There is XXXX deformity of T6, XXXX since X-XXXX thoracic spine XXXX, XXXX. Mild XXXX deformity of T12, stable. Prior cholecystectomy. 1. No definite evidence of metastatic disease. 2. Age-indeterminate XXXX deformity of T6, XXXX since study dated XXXX, XXXX. .   \n",
              "\n",
              "      label  \n",
              "0  normal    \n",
              "1  normal    \n",
              "2  normal    \n",
              "3  abnormal  \n",
              "4  abnormal  "
            ],
            "text/html": [
              "\n",
              "  <div id=\"df-59014b68-3a54-4a57-9cb6-42f196167240\">\n",
              "    <div class=\"colab-df-container\">\n",
              "      <div>\n",
              "<style scoped>\n",
              "    .dataframe tbody tr th:only-of-type {\n",
              "        vertical-align: middle;\n",
              "    }\n",
              "\n",
              "    .dataframe tbody tr th {\n",
              "        vertical-align: top;\n",
              "    }\n",
              "\n",
              "    .dataframe thead th {\n",
              "        text-align: right;\n",
              "    }\n",
              "</style>\n",
              "<table border=\"1\" class=\"dataframe\">\n",
              "  <thead>\n",
              "    <tr style=\"text-align: right;\">\n",
              "      <th></th>\n",
              "      <th>id</th>\n",
              "      <th>findings</th>\n",
              "      <th>impression</th>\n",
              "      <th>full-text</th>\n",
              "      <th>label</th>\n",
              "    </tr>\n",
              "  </thead>\n",
              "  <tbody>\n",
              "    <tr>\n",
              "      <th>0</th>\n",
              "      <td>1222</td>\n",
              "      <td>The heart and lungs have XXXX XXXX in the interval. Both lungs are clear and expanded. Heart and mediastinum normal.</td>\n",
              "      <td>No active disease.</td>\n",
              "      <td>The heart and lungs have XXXX XXXX in the interval. Both lungs are clear and expanded. Heart and mediastinum normal. No active disease.</td>\n",
              "      <td>normal</td>\n",
              "    </tr>\n",
              "    <tr>\n",
              "      <th>1</th>\n",
              "      <td>3147</td>\n",
              "      <td>The lungs are clear. The cardiomediastinal silhouette is within normal limits. No pneumothorax or pleural effusion.</td>\n",
              "      <td>Negative chest .</td>\n",
              "      <td>The lungs are clear. The cardiomediastinal silhouette is within normal limits. No pneumothorax or pleural effusion. Negative chest .</td>\n",
              "      <td>normal</td>\n",
              "    </tr>\n",
              "    <tr>\n",
              "      <th>2</th>\n",
              "      <td>931</td>\n",
              "      <td>The lungs and pleural spaces show no acute abnormality. Heart size and pulmonary vascularity within normal limits.</td>\n",
              "      <td>1. No acute pulmonary abnormality.</td>\n",
              "      <td>The lungs and pleural spaces show no acute abnormality. Heart size and pulmonary vascularity within normal limits. 1. No acute pulmonary abnormality.</td>\n",
              "      <td>normal</td>\n",
              "    </tr>\n",
              "    <tr>\n",
              "      <th>3</th>\n",
              "      <td>460</td>\n",
              "      <td>The lungs and pleural spaces show no acute abnormality. Heart size and pulmonary vascularity within normal limits. Mild tortuosity of the thoracic aorta, unchanged</td>\n",
              "      <td>1. No acute pulmonary abnormality.</td>\n",
              "      <td>The lungs and pleural spaces show no acute abnormality. Heart size and pulmonary vascularity within normal limits. Mild tortuosity of the thoracic aorta, unchanged 1. No acute pulmonary abnormality.</td>\n",
              "      <td>abnormal</td>\n",
              "    </tr>\n",
              "    <tr>\n",
              "      <th>4</th>\n",
              "      <td>293</td>\n",
              "      <td>Sternotomy XXXX mediastinal clips noted. Heart size within normal limits. Negative for focal pulmonary consolidation, pleural effusion, or pneumothorax. There is XXXX deformity of T6, XXXX since X-XXXX thoracic spine XXXX, XXXX. Mild XXXX deformity of T12, stable. Prior cholecystectomy.</td>\n",
              "      <td>1. No definite evidence of metastatic disease. 2. Age-indeterminate XXXX deformity of T6, XXXX since study dated XXXX, XXXX. .</td>\n",
              "      <td>Sternotomy XXXX mediastinal clips noted. Heart size within normal limits. Negative for focal pulmonary consolidation, pleural effusion, or pneumothorax. There is XXXX deformity of T6, XXXX since X-XXXX thoracic spine XXXX, XXXX. Mild XXXX deformity of T12, stable. Prior cholecystectomy. 1. No definite evidence of metastatic disease. 2. Age-indeterminate XXXX deformity of T6, XXXX since study dated XXXX, XXXX. .</td>\n",
              "      <td>abnormal</td>\n",
              "    </tr>\n",
              "  </tbody>\n",
              "</table>\n",
              "</div>\n",
              "      <button class=\"colab-df-convert\" onclick=\"convertToInteractive('df-59014b68-3a54-4a57-9cb6-42f196167240')\"\n",
              "              title=\"Convert this dataframe to an interactive table.\"\n",
              "              style=\"display:none;\">\n",
              "        \n",
              "  <svg xmlns=\"http://www.w3.org/2000/svg\" height=\"24px\"viewBox=\"0 0 24 24\"\n",
              "       width=\"24px\">\n",
              "    <path d=\"M0 0h24v24H0V0z\" fill=\"none\"/>\n",
              "    <path d=\"M18.56 5.44l.94 2.06.94-2.06 2.06-.94-2.06-.94-.94-2.06-.94 2.06-2.06.94zm-11 1L8.5 8.5l.94-2.06 2.06-.94-2.06-.94L8.5 2.5l-.94 2.06-2.06.94zm10 10l.94 2.06.94-2.06 2.06-.94-2.06-.94-.94-2.06-.94 2.06-2.06.94z\"/><path d=\"M17.41 7.96l-1.37-1.37c-.4-.4-.92-.59-1.43-.59-.52 0-1.04.2-1.43.59L10.3 9.45l-7.72 7.72c-.78.78-.78 2.05 0 2.83L4 21.41c.39.39.9.59 1.41.59.51 0 1.02-.2 1.41-.59l7.78-7.78 2.81-2.81c.8-.78.8-2.07 0-2.86zM5.41 20L4 18.59l7.72-7.72 1.47 1.35L5.41 20z\"/>\n",
              "  </svg>\n",
              "      </button>\n",
              "      \n",
              "  <style>\n",
              "    .colab-df-container {\n",
              "      display:flex;\n",
              "      flex-wrap:wrap;\n",
              "      gap: 12px;\n",
              "    }\n",
              "\n",
              "    .colab-df-convert {\n",
              "      background-color: #E8F0FE;\n",
              "      border: none;\n",
              "      border-radius: 50%;\n",
              "      cursor: pointer;\n",
              "      display: none;\n",
              "      fill: #1967D2;\n",
              "      height: 32px;\n",
              "      padding: 0 0 0 0;\n",
              "      width: 32px;\n",
              "    }\n",
              "\n",
              "    .colab-df-convert:hover {\n",
              "      background-color: #E2EBFA;\n",
              "      box-shadow: 0px 1px 2px rgba(60, 64, 67, 0.3), 0px 1px 3px 1px rgba(60, 64, 67, 0.15);\n",
              "      fill: #174EA6;\n",
              "    }\n",
              "\n",
              "    [theme=dark] .colab-df-convert {\n",
              "      background-color: #3B4455;\n",
              "      fill: #D2E3FC;\n",
              "    }\n",
              "\n",
              "    [theme=dark] .colab-df-convert:hover {\n",
              "      background-color: #434B5C;\n",
              "      box-shadow: 0px 1px 3px 1px rgba(0, 0, 0, 0.15);\n",
              "      filter: drop-shadow(0px 1px 2px rgba(0, 0, 0, 0.3));\n",
              "      fill: #FFFFFF;\n",
              "    }\n",
              "  </style>\n",
              "\n",
              "      <script>\n",
              "        const buttonEl =\n",
              "          document.querySelector('#df-59014b68-3a54-4a57-9cb6-42f196167240 button.colab-df-convert');\n",
              "        buttonEl.style.display =\n",
              "          google.colab.kernel.accessAllowed ? 'block' : 'none';\n",
              "\n",
              "        async function convertToInteractive(key) {\n",
              "          const element = document.querySelector('#df-59014b68-3a54-4a57-9cb6-42f196167240');\n",
              "          const dataTable =\n",
              "            await google.colab.kernel.invokeFunction('convertToInteractive',\n",
              "                                                     [key], {});\n",
              "          if (!dataTable) return;\n",
              "\n",
              "          const docLinkHtml = 'Like what you see? Visit the ' +\n",
              "            '<a target=\"_blank\" href=https://colab.research.google.com/notebooks/data_table.ipynb>data table notebook</a>'\n",
              "            + ' to learn more about interactive tables.';\n",
              "          element.innerHTML = '';\n",
              "          dataTable['output_type'] = 'display_data';\n",
              "          await google.colab.output.renderOutput(dataTable, element);\n",
              "          const docLink = document.createElement('div');\n",
              "          docLink.innerHTML = docLinkHtml;\n",
              "          element.appendChild(docLink);\n",
              "        }\n",
              "      </script>\n",
              "    </div>\n",
              "  </div>\n",
              "  "
            ]
          },
          "metadata": {},
          "execution_count": 8
        }
      ]
    },
    {
      "cell_type": "code",
      "metadata": {
        "colab": {
          "base_uri": "https://localhost:8080/",
          "height": 563
        },
        "id": "gPf0e-SE9Uwc",
        "outputId": "c823d43a-55e1-4ffe-8ef1-e962e7baa843"
      },
      "source": [
        "reports_df.sample(5)"
      ],
      "execution_count": 9,
      "outputs": [
        {
          "output_type": "execute_result",
          "data": {
            "text/plain": [
              "        id  \\\n",
              "674   1319   \n",
              "920   1369   \n",
              "386   3843   \n",
              "2758  182    \n",
              "2696  195    \n",
              "\n",
              "                                                                                                                                                                                                                                                                                                                                                  findings  \\\n",
              "674   The heart size and pulmonary vascularity appear within normal limits. The lungs are free of focal airspace disease. No pleural effusion or pneumothorax is seen.                                                                                                                                                                                       \n",
              "920   Heart size normal. Prominent epicardial fat. Lungs are clear. No pleural effusion or pneumothorax.                                                                                                                                                                                                                                                     \n",
              "386   A right-sided chest XXXX remains in XXXX with the distal tip at the level of the mid SVC. The cardiomediastinal silhouette is within normal limits for appearance. No focal areas of pulmonary consolidation. No pulmonary nodules or mass lesions identified. No pneumothorax or pleural effusion. Mild degenerative changes of the thoracic spine.   \n",
              "2758  Heart size and mediastinal contours appear within normal limits. Patchy airspace opacities in the left lower lobe, compatible with infiltrate. No large pleural effusion. No pneumothorax. No acute bony abnormality.                                                                                                                                  \n",
              "2696  Clear lungs bilaterally. No pneumothorax or pleural effusion. Normal cardiac contours                                                                                                                                                                                                                                                                  \n",
              "\n",
              "                                                                                              impression  \\\n",
              "674   No evidence of active disease.                                                                       \n",
              "920   Unremarkable examination of the chest.                                                               \n",
              "386   1. Right-sided chest XXXX in XXXX without demonstration of an acute cardiopulmonary abnormality. .   \n",
              "2758  Left lower lobe infiltrate.                                                                          \n",
              "2696  1. No acute cardiopulmonary abnormalities                                                            \n",
              "\n",
              "                                                                                                                                                                                                                                                                                                                                                                                                                                                    full-text  \\\n",
              "674   The heart size and pulmonary vascularity appear within normal limits. The lungs are free of focal airspace disease. No pleural effusion or pneumothorax is seen. No evidence of active disease.                                                                                                                                                                                                                                                           \n",
              "920   Heart size normal. Prominent epicardial fat. Lungs are clear. No pleural effusion or pneumothorax. Unremarkable examination of the chest.                                                                                                                                                                                                                                                                                                                 \n",
              "386   A right-sided chest XXXX remains in XXXX with the distal tip at the level of the mid SVC. The cardiomediastinal silhouette is within normal limits for appearance. No focal areas of pulmonary consolidation. No pulmonary nodules or mass lesions identified. No pneumothorax or pleural effusion. Mild degenerative changes of the thoracic spine. 1. Right-sided chest XXXX in XXXX without demonstration of an acute cardiopulmonary abnormality. .   \n",
              "2758  Heart size and mediastinal contours appear within normal limits. Patchy airspace opacities in the left lower lobe, compatible with infiltrate. No large pleural effusion. No pneumothorax. No acute bony abnormality. Left lower lobe infiltrate.                                                                                                                                                                                                         \n",
              "2696  Clear lungs bilaterally. No pneumothorax or pleural effusion. Normal cardiac contours 1. No acute cardiopulmonary abnormalities                                                                                                                                                                                                                                                                                                                           \n",
              "\n",
              "         label  \n",
              "674   normal    \n",
              "920   abnormal  \n",
              "386   abnormal  \n",
              "2758  abnormal  \n",
              "2696  normal    "
            ],
            "text/html": [
              "\n",
              "  <div id=\"df-77eaaecf-bd45-438b-81c9-cda2b5659d66\">\n",
              "    <div class=\"colab-df-container\">\n",
              "      <div>\n",
              "<style scoped>\n",
              "    .dataframe tbody tr th:only-of-type {\n",
              "        vertical-align: middle;\n",
              "    }\n",
              "\n",
              "    .dataframe tbody tr th {\n",
              "        vertical-align: top;\n",
              "    }\n",
              "\n",
              "    .dataframe thead th {\n",
              "        text-align: right;\n",
              "    }\n",
              "</style>\n",
              "<table border=\"1\" class=\"dataframe\">\n",
              "  <thead>\n",
              "    <tr style=\"text-align: right;\">\n",
              "      <th></th>\n",
              "      <th>id</th>\n",
              "      <th>findings</th>\n",
              "      <th>impression</th>\n",
              "      <th>full-text</th>\n",
              "      <th>label</th>\n",
              "    </tr>\n",
              "  </thead>\n",
              "  <tbody>\n",
              "    <tr>\n",
              "      <th>674</th>\n",
              "      <td>1319</td>\n",
              "      <td>The heart size and pulmonary vascularity appear within normal limits. The lungs are free of focal airspace disease. No pleural effusion or pneumothorax is seen.</td>\n",
              "      <td>No evidence of active disease.</td>\n",
              "      <td>The heart size and pulmonary vascularity appear within normal limits. The lungs are free of focal airspace disease. No pleural effusion or pneumothorax is seen. No evidence of active disease.</td>\n",
              "      <td>normal</td>\n",
              "    </tr>\n",
              "    <tr>\n",
              "      <th>920</th>\n",
              "      <td>1369</td>\n",
              "      <td>Heart size normal. Prominent epicardial fat. Lungs are clear. No pleural effusion or pneumothorax.</td>\n",
              "      <td>Unremarkable examination of the chest.</td>\n",
              "      <td>Heart size normal. Prominent epicardial fat. Lungs are clear. No pleural effusion or pneumothorax. Unremarkable examination of the chest.</td>\n",
              "      <td>abnormal</td>\n",
              "    </tr>\n",
              "    <tr>\n",
              "      <th>386</th>\n",
              "      <td>3843</td>\n",
              "      <td>A right-sided chest XXXX remains in XXXX with the distal tip at the level of the mid SVC. The cardiomediastinal silhouette is within normal limits for appearance. No focal areas of pulmonary consolidation. No pulmonary nodules or mass lesions identified. No pneumothorax or pleural effusion. Mild degenerative changes of the thoracic spine.</td>\n",
              "      <td>1. Right-sided chest XXXX in XXXX without demonstration of an acute cardiopulmonary abnormality. .</td>\n",
              "      <td>A right-sided chest XXXX remains in XXXX with the distal tip at the level of the mid SVC. The cardiomediastinal silhouette is within normal limits for appearance. No focal areas of pulmonary consolidation. No pulmonary nodules or mass lesions identified. No pneumothorax or pleural effusion. Mild degenerative changes of the thoracic spine. 1. Right-sided chest XXXX in XXXX without demonstration of an acute cardiopulmonary abnormality. .</td>\n",
              "      <td>abnormal</td>\n",
              "    </tr>\n",
              "    <tr>\n",
              "      <th>2758</th>\n",
              "      <td>182</td>\n",
              "      <td>Heart size and mediastinal contours appear within normal limits. Patchy airspace opacities in the left lower lobe, compatible with infiltrate. No large pleural effusion. No pneumothorax. No acute bony abnormality.</td>\n",
              "      <td>Left lower lobe infiltrate.</td>\n",
              "      <td>Heart size and mediastinal contours appear within normal limits. Patchy airspace opacities in the left lower lobe, compatible with infiltrate. No large pleural effusion. No pneumothorax. No acute bony abnormality. Left lower lobe infiltrate.</td>\n",
              "      <td>abnormal</td>\n",
              "    </tr>\n",
              "    <tr>\n",
              "      <th>2696</th>\n",
              "      <td>195</td>\n",
              "      <td>Clear lungs bilaterally. No pneumothorax or pleural effusion. Normal cardiac contours</td>\n",
              "      <td>1. No acute cardiopulmonary abnormalities</td>\n",
              "      <td>Clear lungs bilaterally. No pneumothorax or pleural effusion. Normal cardiac contours 1. No acute cardiopulmonary abnormalities</td>\n",
              "      <td>normal</td>\n",
              "    </tr>\n",
              "  </tbody>\n",
              "</table>\n",
              "</div>\n",
              "      <button class=\"colab-df-convert\" onclick=\"convertToInteractive('df-77eaaecf-bd45-438b-81c9-cda2b5659d66')\"\n",
              "              title=\"Convert this dataframe to an interactive table.\"\n",
              "              style=\"display:none;\">\n",
              "        \n",
              "  <svg xmlns=\"http://www.w3.org/2000/svg\" height=\"24px\"viewBox=\"0 0 24 24\"\n",
              "       width=\"24px\">\n",
              "    <path d=\"M0 0h24v24H0V0z\" fill=\"none\"/>\n",
              "    <path d=\"M18.56 5.44l.94 2.06.94-2.06 2.06-.94-2.06-.94-.94-2.06-.94 2.06-2.06.94zm-11 1L8.5 8.5l.94-2.06 2.06-.94-2.06-.94L8.5 2.5l-.94 2.06-2.06.94zm10 10l.94 2.06.94-2.06 2.06-.94-2.06-.94-.94-2.06-.94 2.06-2.06.94z\"/><path d=\"M17.41 7.96l-1.37-1.37c-.4-.4-.92-.59-1.43-.59-.52 0-1.04.2-1.43.59L10.3 9.45l-7.72 7.72c-.78.78-.78 2.05 0 2.83L4 21.41c.39.39.9.59 1.41.59.51 0 1.02-.2 1.41-.59l7.78-7.78 2.81-2.81c.8-.78.8-2.07 0-2.86zM5.41 20L4 18.59l7.72-7.72 1.47 1.35L5.41 20z\"/>\n",
              "  </svg>\n",
              "      </button>\n",
              "      \n",
              "  <style>\n",
              "    .colab-df-container {\n",
              "      display:flex;\n",
              "      flex-wrap:wrap;\n",
              "      gap: 12px;\n",
              "    }\n",
              "\n",
              "    .colab-df-convert {\n",
              "      background-color: #E8F0FE;\n",
              "      border: none;\n",
              "      border-radius: 50%;\n",
              "      cursor: pointer;\n",
              "      display: none;\n",
              "      fill: #1967D2;\n",
              "      height: 32px;\n",
              "      padding: 0 0 0 0;\n",
              "      width: 32px;\n",
              "    }\n",
              "\n",
              "    .colab-df-convert:hover {\n",
              "      background-color: #E2EBFA;\n",
              "      box-shadow: 0px 1px 2px rgba(60, 64, 67, 0.3), 0px 1px 3px 1px rgba(60, 64, 67, 0.15);\n",
              "      fill: #174EA6;\n",
              "    }\n",
              "\n",
              "    [theme=dark] .colab-df-convert {\n",
              "      background-color: #3B4455;\n",
              "      fill: #D2E3FC;\n",
              "    }\n",
              "\n",
              "    [theme=dark] .colab-df-convert:hover {\n",
              "      background-color: #434B5C;\n",
              "      box-shadow: 0px 1px 3px 1px rgba(0, 0, 0, 0.15);\n",
              "      filter: drop-shadow(0px 1px 2px rgba(0, 0, 0, 0.3));\n",
              "      fill: #FFFFFF;\n",
              "    }\n",
              "  </style>\n",
              "\n",
              "      <script>\n",
              "        const buttonEl =\n",
              "          document.querySelector('#df-77eaaecf-bd45-438b-81c9-cda2b5659d66 button.colab-df-convert');\n",
              "        buttonEl.style.display =\n",
              "          google.colab.kernel.accessAllowed ? 'block' : 'none';\n",
              "\n",
              "        async function convertToInteractive(key) {\n",
              "          const element = document.querySelector('#df-77eaaecf-bd45-438b-81c9-cda2b5659d66');\n",
              "          const dataTable =\n",
              "            await google.colab.kernel.invokeFunction('convertToInteractive',\n",
              "                                                     [key], {});\n",
              "          if (!dataTable) return;\n",
              "\n",
              "          const docLinkHtml = 'Like what you see? Visit the ' +\n",
              "            '<a target=\"_blank\" href=https://colab.research.google.com/notebooks/data_table.ipynb>data table notebook</a>'\n",
              "            + ' to learn more about interactive tables.';\n",
              "          element.innerHTML = '';\n",
              "          dataTable['output_type'] = 'display_data';\n",
              "          await google.colab.output.renderOutput(dataTable, element);\n",
              "          const docLink = document.createElement('div');\n",
              "          docLink.innerHTML = docLinkHtml;\n",
              "          element.appendChild(docLink);\n",
              "        }\n",
              "      </script>\n",
              "    </div>\n",
              "  </div>\n",
              "  "
            ]
          },
          "metadata": {},
          "execution_count": 9
        }
      ]
    },
    {
      "cell_type": "markdown",
      "metadata": {
        "id": "L7TwCTMm9cqB"
      },
      "source": [
        "# Some characteristics of the data\n",
        "\n",
        "We previously already noticed that not all reports had labels associated with them and kept track of a list of such reports in reports_unlabeled. Through further examination of the data we see that some reports (e.g. id 68) only have an impression section but no findings section. THere are also numerous XXXX in reports which likely represent placeholder text after PHI removal (names, dates, etc). Even for normal labeled reports, there is quite a large amount of variation in the text of the reports."
      ]
    },
    {
      "cell_type": "markdown",
      "metadata": {
        "id": "IrbIaKT--Vvs"
      },
      "source": [
        "## Distribution of labels\n",
        "\n",
        "For any data, it is important to examine the distribution of classes (labels) of the data. Imbalanced datasets can have large impacts in terms of how a model behaves after training. "
      ]
    },
    {
      "cell_type": "code",
      "metadata": {
        "colab": {
          "base_uri": "https://localhost:8080/",
          "height": 355
        },
        "id": "GZSWHhOu-ci0",
        "outputId": "2cf14ad0-2f40-47e5-a092-d64eb390cb22"
      },
      "source": [
        "# code from Wiggins et. al.\n",
        "\n",
        "label_counts = reports_df.label.value_counts()\n",
        "print('Abnormal:', label_counts['abnormal'])\n",
        "print('Normal:', label_counts['normal'])\n",
        "print()\n",
        "label_counts.plot.bar();"
      ],
      "execution_count": 10,
      "outputs": [
        {
          "output_type": "stream",
          "name": "stdout",
          "text": [
            "Abnormal: 2469\n",
            "Normal: 1486\n",
            "\n"
          ]
        },
        {
          "output_type": "display_data",
          "data": {
            "text/plain": [
              "<Figure size 432x288 with 1 Axes>"
            ],
            "image/png": "[encoded data removed]"
          },
          "metadata": {
            "needs_background": "light"
          }
        }
      ]
    },
    {
      "cell_type": "markdown",
      "metadata": {
        "id": "2gkDEelM-2he"
      },
      "source": [
        "# Training and test set split\n",
        "\n",
        "We will carve the data into two separate data sets - a training set to train the model and a test set to evaluate the model performance. It is necessary to use a separate dataset on which the model is not trained to evaluate the model because models can overfit onto training data and perform very well on that particular dataset but fail to generalize to examples it has not seen before.\n",
        "\n",
        "Similarly, a third validation set is sometimes employed as part of the model development process for hyperparameter tuning which is  part of the training process.\n",
        "\n",
        "For simplicity, we will use a single stratified train-test split, but a cross-validation approach with multiple train-test splits can offer better insight into how a model performs.\n",
        "\n",
        "The stratification refers to how the sampling is done when the data is split into separate data sets. This is important when there is class imbalance in the dataset because you could conceivably end up with one dataset only having members of one class. \n",
        "\n",
        "The stratify option in the train_test_split function takes the labels of the dataset as input. When this option is enabled, the sampler will attempt to preserve class proportions of the input dataset (aka the input dataset labels) in the split datasets via stratified sampling. Note this does not solve the class imbalance problem on its own."
      ]
    },
    {
      "cell_type": "code",
      "metadata": {
        "id": "lGzyqyLg-1fY"
      },
      "source": [
        "import numpy as np\n",
        "from sklearn.model_selection import train_test_split\n",
        "\n",
        "# fix seed for reproducibility\n",
        "np.random.seed(2021)\n",
        "\n",
        "train_df, test_df = train_test_split(reports_df, test_size=0.15, stratify=reports_df.label.values)"
      ],
      "execution_count": 11,
      "outputs": []
    },
    {
      "cell_type": "markdown",
      "metadata": {
        "id": "G1UzvyxVF_f0"
      },
      "source": [
        "If we examine the dataset labels of the test set, we can see that we have similar proportions of abnormal and normal labels compared to the original full dataset (approx 62% abnormal)"
      ]
    },
    {
      "cell_type": "code",
      "metadata": {
        "colab": {
          "base_uri": "https://localhost:8080/",
          "height": 372
        },
        "id": "6sXQ7JaPCGCB",
        "outputId": "e2c46cd9-1254-4dcf-954c-e37e16b8af51"
      },
      "source": [
        "# code from Wiggins et. al.\n",
        "\n",
        "print('Test set size:', test_df.shape[0])\n",
        "test_counts = test_df.label.value_counts()\n",
        "test_counts_normalized = test_df.label.value_counts(normalize=True)\n",
        "print('Abnormal: %d (%0.1f %%)' % (test_counts['abnormal'], 100*test_counts_normalized['abnormal']))\n",
        "print('Normal:   %d (%0.1f %%)'% (test_counts['normal'], 100*test_counts_normalized['normal']))\n",
        "print()\n",
        "test_counts.plot.bar();"
      ],
      "execution_count": 12,
      "outputs": [
        {
          "output_type": "stream",
          "name": "stdout",
          "text": [
            "Test set size: 594\n",
            "Abnormal: 371 (62.5 %)\n",
            "Normal:   223 (37.5 %)\n",
            "\n"
          ]
        },
        {
          "output_type": "display_data",
          "data": {
            "text/plain": [
              "<Figure size 432x288 with 1 Axes>"
            ],
            "image/png": "[encoded data removed]"
          },
          "metadata": {
            "needs_background": "light"
          }
        }
      ]
    },
    {
      "cell_type": "markdown",
      "metadata": {
        "id": "AT-jzMJb2ivw"
      },
      "source": [
        "# Preprocessing\n",
        "\n",
        "Most models will not understand a stream of free text as is. Before we can use our data as input into a model, we need to convert it into a form that can be understood by an algorithm. Often this is done by creating a \"vocabulary\" of words such that every unique word has a unique index and thus we can input a word's index as input into a model (or use the index to look up some numerical representation of the word).\n",
        "\n",
        "The following sections will examine pieces of a preprocessing pipeline in isolation using independent sections of code but then put these pieces together as one function at the end."
      ]
    },
    {
      "cell_type": "markdown",
      "metadata": {
        "id": "6ngfIeq-ep7-"
      },
      "source": [
        "## Regular expressions (regex)\n",
        "The data used in this tutorial was already nicely packaged into distinct Findings and Impression sections. Most of the time when working with radiology reports you'll have to divide the report into these separate entities yourself. One way to do this is with regular expressions which are rule based expressions that can match patterns of text. Regular expressions can be a powerful way to automatically segment reports or identify sections of text if pre-existing knowledge about their format is known.\n",
        "\n",
        "[Cheat sheet](http://stanford.edu/~wpmarble/webscraping_tutorial/regex_cheatsheet.pdf) for regex syntax\n",
        "\n",
        "We will not extensively cover regular expression nuances in this tutorial but just show a simple example of how they are used with respect to the Python re package. Regular expressions are a general framework thus you may also see packages outside of the re package which interface with regular expressions.\n",
        "\n",
        "More about regular expressions can be found [here](https://www.regular-expressions.info/refflavors.html).\n"
      ]
    },
    {
      "cell_type": "code",
      "metadata": {
        "id": "wvgJFJX-uRZJ",
        "colab": {
          "base_uri": "https://localhost:8080/"
        },
        "outputId": "081956fe-7752-45f7-c1d4-60e7446acecf"
      },
      "source": [
        "#@title\n",
        "import re\n",
        "\n",
        "regex_test_string = \"\"\"\n",
        "123-456-7890\n",
        "(123)456-7890\n",
        "(123)-456-7890\n",
        "123 456 7890\n",
        "123.456.7890\n",
        "+1-123-456-7890\n",
        "+1 (321) 456-7890\n",
        "+91 123-456-7890\n",
        "\"\"\"\n",
        "\n",
        "regex_pattern = \"\\+?(\\d{1,3})?[-. (]?[-. (]?(\\d{3})[-. )]?[-. )]?\\d{3}[-. ]?\\d{4}\"#@param {type:\"string\"}\n",
        "m = re.finditer(regex_pattern,regex_test_string)\n",
        "\n",
        "for match in m:\n",
        "  print(match.group())\n",
        "  print(f\"Area code is {match.group(2)}\\n\")"
      ],
      "execution_count": 13,
      "outputs": [
        {
          "output_type": "stream",
          "name": "stdout",
          "text": [
            "123-456-7890\n",
            "Area code is 123\n",
            "\n",
            "(123)456-7890\n",
            "Area code is 123\n",
            "\n",
            "(123)-456-7890\n",
            "Area code is 123\n",
            "\n",
            "123 456 7890\n",
            "Area code is 123\n",
            "\n",
            "123.456.7890\n",
            "Area code is 123\n",
            "\n",
            "+1-123-456-7890\n",
            "Area code is 123\n",
            "\n",
            "+1 (321) 456-7890\n",
            "Area code is 321\n",
            "\n",
            "+91 123-456-7890\n",
            "Area code is 123\n",
            "\n"
          ]
        }
      ]
    },
    {
      "cell_type": "markdown",
      "metadata": {
        "id": "Z2kgbwY9T82E"
      },
      "source": [
        "Note by default regex does greedy matching\n",
        "Greedy matching - match as much as text as possible to fulfill the pattern even if a smaller subsection of the text would have already fulfilled the pattern.\n",
        "\n",
        "In the following example we look for a string that begins with \"h\", has at least one character of anything except line breaks, and then an \"l\".\n",
        "\n",
        "If our test string is \"hello\" , then the substring \"hel\" matches our objective but so does \"hell\" if we go one character further. The default behavior is to return the longer version (hence greedy). If we wanted the non-greedy version, adding a \"?\" after a quantifier makes it non-greedy."
      ]
    },
    {
      "cell_type": "code",
      "metadata": {
        "colab": {
          "base_uri": "https://localhost:8080/"
        },
        "id": "Qys-4is5T76_",
        "outputId": "ca146389-7180-4a96-b3f0-fe1dae6af6ac"
      },
      "source": [
        "#@title Greedy\n",
        "regex_pattern = \"h.+l\"\n",
        "m = re.finditer(regex_pattern,\"hello\")\n",
        "for match in m:\n",
        "  print(match.group())"
      ],
      "execution_count": 14,
      "outputs": [
        {
          "output_type": "stream",
          "name": "stdout",
          "text": [
            "hell\n"
          ]
        }
      ]
    },
    {
      "cell_type": "code",
      "metadata": {
        "colab": {
          "base_uri": "https://localhost:8080/"
        },
        "id": "a7CnEewdUKJf",
        "outputId": "a0d00695-1451-470d-eb37-982dfb542b41"
      },
      "source": [
        "#@title Non-greedy\n",
        "regex_pattern = \"h.+?l\"\n",
        "m = re.finditer(regex_pattern,\"hello\")\n",
        "for match in m:\n",
        "  print(match.group())"
      ],
      "execution_count": 15,
      "outputs": [
        {
          "output_type": "stream",
          "name": "stdout",
          "text": [
            "hel\n"
          ]
        }
      ]
    },
    {
      "cell_type": "markdown",
      "source": [
        "## Regex practice problems"
      ],
      "metadata": {
        "id": "R_Um5Un6eFVo"
      }
    },
    {
      "cell_type": "markdown",
      "source": [
        "Answers at the bottom of this notebook"
      ],
      "metadata": {
        "id": "PlBO0dhu8wSB"
      }
    },
    {
      "cell_type": "code",
      "source": [
        "#@title Question 1: Find and remove all punctuation within the text block\n",
        "\n",
        "regex_pattern = # Fill out the pattern here to identify punctuations\n",
        "\n",
        "text_block = \"\"\"\n",
        "There is no significant end-vessel ischemic small vessel disease. \n",
        "There is no acute infarct seen. \n",
        "No intracranial hemorrhage is recognized.\n",
        "\"\"\"\n",
        "out_text = re.sub(regex_pattern, ' ', text_block)\n",
        "\n",
        "print(out_text)"
      ],
      "metadata": {
        "id": "oOW0BFd0eE4M"
      },
      "execution_count": null,
      "outputs": []
    },
    {
      "cell_type": "code",
      "source": [
        "#@title Question 2: Extract full impression from the text block\n",
        "\n",
        "regex_pattern = # Fill out the pattern here to identify impression text\n",
        "\n",
        "text_block = \"\"\"\n",
        "FINDINGS:\n",
        "FLUID / INTRA-ARTICULAR BODIES: There is a small knee effusion and a small popliteal cyst present. There is circumferential soft tissue edema and swelling at the level the knee most prominent posteriorly.\n",
        "MENISCI:\n",
        "Medial: The medial meniscus is normal.\n",
        "Lateral: The lateral meniscus is normal. \n",
        "\n",
        "IMPRESSION\n",
        "1. There are extensive bone contusions of the distal femur and proximal tibia. There is a nondisplaced Salter II fracture through the growth plate of the distal femur. There is a subperiosteal hematoma with displacement of the periosteum along the posterolateral aspect of the distal femoral metaphysis. \n",
        "2. Extensive bone contusion of the proximal tibia with a small incomplete nondisplaced transverse fracture line noted along the posterior margin of the proximal tibial metaphysis.\n",
        "\"\"\"\n",
        "\n",
        "m = re.search(regex_pattern,text_block)\n",
        "for group in m.groups():\n",
        "  print(group)\n",
        "  print()\n"
      ],
      "metadata": {
        "id": "vnS03i9Ofh-a"
      },
      "execution_count": null,
      "outputs": []
    },
    {
      "cell_type": "markdown",
      "metadata": {
        "id": "NXLQtF-d2eYv"
      },
      "source": [
        "## Word tokenization\n",
        "\n",
        "The first step in processing text is often tokenization. This is a process in which text is split into discrete sections which are known as tokens. A natural place to create these sections (for English) is dividing at spaces so that each word represents a token. However, tokens could also be defined at a phrase level (multiple words), sentence level, or character level. For simplicity here, we will tokenize at the single word level."
      ]
    },
    {
      "cell_type": "code",
      "metadata": {
        "id": "zelqyCW7HHZE",
        "colab": {
          "base_uri": "https://localhost:8080/"
        },
        "outputId": "d94bab19-c093-4343-cb6e-958dd223be23"
      },
      "source": [
        "import nltk\n",
        "nltk.download('punkt')\n",
        "text = \"Heart size upper limits of normal. Mediastinal contours are maintained. The patient is mildly rotated. There is a small to moderate sized right apical pneumothorax which measures approximately 2.0 cm. No focal airspace consolidation is seen. Left chest is clear. No definite displaced bony injury is seen. Results called XXXX. XXXX XXXX p.m. XXXX, XXXX. Small to moderate right apical pneumothorax.\"\n",
        "text_tokens = nltk.tokenize.word_tokenize(text)\n",
        "print(text_tokens)"
      ],
      "execution_count": 17,
      "outputs": [
        {
          "output_type": "stream",
          "name": "stderr",
          "text": [
            "[nltk_data] Downloading package punkt to /root/nltk_data...\n",
            "[nltk_data]   Package punkt is already up-to-date!\n"
          ]
        },
        {
          "output_type": "stream",
          "name": "stdout",
          "text": [
            "['Heart', 'size', 'upper', 'limits', 'of', 'normal', '.', 'Mediastinal', 'contours', 'are', 'maintained', '.', 'The', 'patient', 'is', 'mildly', 'rotated', '.', 'There', 'is', 'a', 'small', 'to', 'moderate', 'sized', 'right', 'apical', 'pneumothorax', 'which', 'measures', 'approximately', '2.0', 'cm', '.', 'No', 'focal', 'airspace', 'consolidation', 'is', 'seen', '.', 'Left', 'chest', 'is', 'clear', '.', 'No', 'definite', 'displaced', 'bony', 'injury', 'is', 'seen', '.', 'Results', 'called', 'XXXX', '.', 'XXXX', 'XXXX', 'p.m.', 'XXXX', ',', 'XXXX', '.', 'Small', 'to', 'moderate', 'right', 'apical', 'pneumothorax', '.']\n"
          ]
        }
      ]
    },
    {
      "cell_type": "markdown",
      "metadata": {
        "id": "o4fhncsA205b"
      },
      "source": [
        "## Stopword removal\n",
        "\n",
        "Stop words are high-frequeny words in language that tend to appear in any context due to their grammatical role (e.g. \"a\", \"the\", \"of\"). They generally do not contain much information, so it is customary to remove these words as part of the prprocessing step. In general this works well, but phrases that rely on stopwords can lose meaning (e.g. \"to be or not to be\"). \n",
        "\n",
        "In this case, XXXX should be removed as well.\n",
        "\n",
        "Removal of stopwords is as simple as defining a set of words that you want to remove and then removing these words by scanning through input text and filtering out words that are within the set.\n"
      ]
    },
    {
      "cell_type": "code",
      "metadata": {
        "id": "c1hZAWWsHMpg",
        "colab": {
          "base_uri": "https://localhost:8080/"
        },
        "outputId": "887a6132-1d95-4ec4-a0f4-a3453a0b0d21"
      },
      "source": [
        "import nltk\n",
        "nltk.download('stopwords')\n",
        "from nltk.corpus import stopwords\n",
        "print(stopwords.words('english'))"
      ],
      "execution_count": 18,
      "outputs": [
        {
          "output_type": "stream",
          "name": "stdout",
          "text": [
            "['i', 'me', 'my', 'myself', 'we', 'our', 'ours', 'ourselves', 'you', \"you're\", \"you've\", \"you'll\", \"you'd\", 'your', 'yours', 'yourself', 'yourselves', 'he', 'him', 'his', 'himself', 'she', \"she's\", 'her', 'hers', 'herself', 'it', \"it's\", 'its', 'itself', 'they', 'them', 'their', 'theirs', 'themselves', 'what', 'which', 'who', 'whom', 'this', 'that', \"that'll\", 'these', 'those', 'am', 'is', 'are', 'was', 'were', 'be', 'been', 'being', 'have', 'has', 'had', 'having', 'do', 'does', 'did', 'doing', 'a', 'an', 'the', 'and', 'but', 'if', 'or', 'because', 'as', 'until', 'while', 'of', 'at', 'by', 'for', 'with', 'about', 'against', 'between', 'into', 'through', 'during', 'before', 'after', 'above', 'below', 'to', 'from', 'up', 'down', 'in', 'out', 'on', 'off', 'over', 'under', 'again', 'further', 'then', 'once', 'here', 'there', 'when', 'where', 'why', 'how', 'all', 'any', 'both', 'each', 'few', 'more', 'most', 'other', 'some', 'such', 'no', 'nor', 'not', 'only', 'own', 'same', 'so', 'than', 'too', 'very', 's', 't', 'can', 'will', 'just', 'don', \"don't\", 'should', \"should've\", 'now', 'd', 'll', 'm', 'o', 're', 've', 'y', 'ain', 'aren', \"aren't\", 'couldn', \"couldn't\", 'didn', \"didn't\", 'doesn', \"doesn't\", 'hadn', \"hadn't\", 'hasn', \"hasn't\", 'haven', \"haven't\", 'isn', \"isn't\", 'ma', 'mightn', \"mightn't\", 'mustn', \"mustn't\", 'needn', \"needn't\", 'shan', \"shan't\", 'shouldn', \"shouldn't\", 'wasn', \"wasn't\", 'weren', \"weren't\", 'won', \"won't\", 'wouldn', \"wouldn't\"]\n"
          ]
        },
        {
          "output_type": "stream",
          "name": "stderr",
          "text": [
            "[nltk_data] Downloading package stopwords to /root/nltk_data...\n",
            "[nltk_data]   Package stopwords is already up-to-date!\n"
          ]
        }
      ]
    },
    {
      "cell_type": "markdown",
      "metadata": {
        "id": "gkTIN1FPRUbw"
      },
      "source": [
        "The imported stopwords exist originally as a list structure, but we should convert to a set for better performance. We can also add custom words to expand this set. Notice our set of stopwords is also all lower case. We will lowercase our tokens prior to matching to the stopword set.\n",
        "\n",
        "In addition to stopwords, numbers are often removed as well (e.g. list numberings) but in the context of radiology these numbers can be very important (e.g. size of a lung nodule)."
      ]
    },
    {
      "cell_type": "code",
      "metadata": {
        "colab": {
          "base_uri": "https://localhost:8080/"
        },
        "id": "j28XvnypRTSq",
        "outputId": "c24e3f6f-a5bd-452f-a79f-65e2304d32f2"
      },
      "source": [
        "import string\n",
        "stop = set(stopwords.words('english')+list(string.punctuation))\n",
        "stop.add(\"xxxx\")\n",
        "\n",
        "filtered_tokens = [i.lower() for i in text_tokens if i.lower() not in stop ]\n",
        "print(filtered_tokens)"
      ],
      "execution_count": 19,
      "outputs": [
        {
          "output_type": "stream",
          "name": "stdout",
          "text": [
            "['heart', 'size', 'upper', 'limits', 'normal', 'mediastinal', 'contours', 'maintained', 'patient', 'mildly', 'rotated', 'small', 'moderate', 'sized', 'right', 'apical', 'pneumothorax', 'measures', 'approximately', '2.0', 'cm', 'focal', 'airspace', 'consolidation', 'seen', 'left', 'chest', 'clear', 'definite', 'displaced', 'bony', 'injury', 'seen', 'results', 'called', 'p.m.', 'small', 'moderate', 'right', 'apical', 'pneumothorax']\n"
          ]
        }
      ]
    },
    {
      "cell_type": "markdown",
      "metadata": {
        "id": "iqPsXyKZ2bf7"
      },
      "source": [
        "## Word normalization - stemming and lemmatization\n",
        "\n",
        "Word (or text) normalization is reducing text to a standardized form before processing. One way to do this is word stemming and/or lemmatization. In word stemming, the suffix of a word is removed, often leaving behind a stem that is not a full word. In lemmatization, words are transformed into a base word. For example, it is common to remove verb conjugations to reduce different forms of a verb to a single word/token - transforming flying, flown, flew -> fly. \n",
        "\n",
        "We will introduce the concept here, but it will not be included within the preprocessing pipeline. Medical stemming is a difficult topic due to many words sharing roots while still having different meanings (e.g. pneumonia, pneumonitis, pneumonic, pneumothorax). Most available stemming packages are not designed for medical stemming and could introduce problems by truncating useful parts of words (\"over stemming\"). \n",
        "\n",
        "In addition to stemming/lemmatizing words which are based on word roots, one can normalize words by mapping words to a controlled vocabulary. This is especially useful in medicine where a number of terms could refer to the same entity (e.g. hepatorenal recess vs subhepatic recess vs pouch of Morison vs Morison's pouch). Examples of efforts to create standardized medical vocabulary include [UMLS](https://www.nlm.nih.gov/research/umls/index.html), [SNOMED-CT](https://www.nlm.nih.gov/healthit/snomedct/index.html), and [RadLex](http://radlex.org/)"
      ]
    },
    {
      "cell_type": "code",
      "metadata": {
        "id": "l3f1ZJUlLRB3",
        "colab": {
          "base_uri": "https://localhost:8080/"
        },
        "outputId": "1c6b3433-4fc2-4d3a-b255-3d4a5b93ad96"
      },
      "source": [
        "import nltk\n",
        "nltk.download(\"wordnet\")\n",
        "from nltk.stem import WordNetLemmatizer\n",
        "from nltk.stem.porter import PorterStemmer"
      ],
      "execution_count": 20,
      "outputs": [
        {
          "output_type": "stream",
          "name": "stderr",
          "text": [
            "[nltk_data] Downloading package wordnet to /root/nltk_data...\n",
            "[nltk_data]   Package wordnet is already up-to-date!\n"
          ]
        }
      ]
    },
    {
      "cell_type": "markdown",
      "metadata": {
        "id": "umebJGsHLX5w"
      },
      "source": [
        "The [Porter Stemmer](http://snowball.tartarus.org/algorithms/porter/stemmer.html) is a commonly used stemmer which uses an extensive rule based approach to stem words. The stems generated by stemming may not be \"real\" words which is ok as the point is to normalize similar words into the same token."
      ]
    },
    {
      "cell_type": "code",
      "metadata": {
        "colab": {
          "base_uri": "https://localhost:8080/",
          "height": 35
        },
        "id": "wzAepJ9VJMG7",
        "outputId": "8c508031-50b5-4135-8634-ff4b33519f9a"
      },
      "source": [
        "stemmer = PorterStemmer()\n",
        "stemmer.stem(\"flying\")"
      ],
      "execution_count": 21,
      "outputs": [
        {
          "output_type": "execute_result",
          "data": {
            "text/plain": [
              "'fli'"
            ],
            "application/vnd.google.colaboratory.intrinsic+json": {
              "type": "string"
            }
          },
          "metadata": {},
          "execution_count": 21
        }
      ]
    },
    {
      "cell_type": "code",
      "metadata": {
        "colab": {
          "base_uri": "https://localhost:8080/"
        },
        "id": "Er980_PYKNId",
        "outputId": "3f45d5f9-1ae3-44ce-c6f0-457ae9b27637"
      },
      "source": [
        "print(stemmer.stem(\"pneumonic\"))\n",
        "print(stemmer.stem(\"pneumonitis\"))"
      ],
      "execution_count": 22,
      "outputs": [
        {
          "output_type": "stream",
          "name": "stdout",
          "text": [
            "pneumon\n",
            "pneumon\n"
          ]
        }
      ]
    },
    {
      "cell_type": "markdown",
      "metadata": {
        "id": "cXckjAH3KlxY"
      },
      "source": [
        "For lemmatization demonstration, we will use the NLTK default lemmatizer which is based on [WordNet](https://wordnet.princeton.edu/). In addition to the target text, the [lemmatizer](https://www.nltk.org/_modules/nltk/stem/wordnet.html) will generally require a part of speech parameter to be fully functional (default is noun)"
      ]
    },
    {
      "cell_type": "code",
      "metadata": {
        "colab": {
          "base_uri": "https://localhost:8080/"
        },
        "id": "3eSFqvCmJwy1",
        "outputId": "57929504-537b-494e-d1b9-647804016c19"
      },
      "source": [
        "nltk.download('omw-1.4')\n",
        "lemmatizer = WordNetLemmatizer()\n",
        "print(lemmatizer.lemmatize(\"flown\",pos=\"v\"))"
      ],
      "execution_count": 23,
      "outputs": [
        {
          "output_type": "stream",
          "name": "stderr",
          "text": [
            "[nltk_data] Downloading package omw-1.4 to /root/nltk_data...\n",
            "[nltk_data]   Package omw-1.4 is already up-to-date!\n"
          ]
        },
        {
          "output_type": "stream",
          "name": "stdout",
          "text": [
            "fly\n"
          ]
        }
      ]
    },
    {
      "cell_type": "markdown",
      "metadata": {
        "id": "3y_nsmWpHeas"
      },
      "source": [
        "## Negation"
      ]
    },
    {
      "cell_type": "markdown",
      "metadata": {
        "id": "LhvODUGKYSa3"
      },
      "source": [
        "Dealing with negation is important especially when using a bag of word model because it ignores word ordering. The presence of a word in a document does not mean we necessarily want it to always be used as the same feature especially if the word is qualified by \"no\" (e.g. no nodule). One way to deal with this is to detect such negated words/phrases and create \"new\" vocab words out of negated entities by appending some text to it (for example append \"NEGEX_\" to negated entities so that these entities are counted as separated words compared to their non-negated counterpart)\n",
        "\n",
        "spacy comes with pre-trained [models](https://github.com/explosion/spacy-models) for purposes of preprocessing (e.g. named entity recognition) and also [negation](https://github.com/jenojp/negspacy). Here we will use a default implementation of negspacy for negation detection."
      ]
    },
    {
      "cell_type": "code",
      "metadata": {
        "id": "y_WKbR3ywkXO",
        "colab": {
          "base_uri": "https://localhost:8080/"
        },
        "outputId": "4d117816-3d27-49e8-f00a-ae178ea66d49"
      },
      "source": [
        "import scispacy\n",
        "import spacy\n",
        "from negspacy.negation import Negex\n",
        "import nltk\n",
        "nltk.download('stopwords')\n",
        "nltk.download('punkt')\n",
        "import string\n",
        "\n",
        "nlp = spacy.load(\"en_core_sci_md\")\n",
        "nlp.add_pipe(\"negex\")"
      ],
      "execution_count": 24,
      "outputs": [
        {
          "output_type": "stream",
          "name": "stderr",
          "text": [
            "[nltk_data] Downloading package stopwords to /root/nltk_data...\n",
            "[nltk_data]   Package stopwords is already up-to-date!\n",
            "[nltk_data] Downloading package punkt to /root/nltk_data...\n",
            "[nltk_data]   Package punkt is already up-to-date!\n"
          ]
        },
        {
          "output_type": "execute_result",
          "data": {
            "text/plain": [
              "<negspacy.negation.Negex at 0x7f317a835f10>"
            ]
          },
          "metadata": {},
          "execution_count": 24
        }
      ]
    },
    {
      "cell_type": "markdown",
      "metadata": {
        "id": "kIuHzg8sstac"
      },
      "source": [
        "What kind of phrases is negex recognizing as negation? We can print the default patterns from negspaCy to see. The \"en_clinical\" dataset is used by default. Default termsets also include \"en\" and \"en_clinical_sensitive\". The official documentation covers how to change term sets and also how to add/remove custom phrases to the sets.\n",
        "\n",
        "From the documentation, negspaCy uses four patterns:\n",
        "\n",
        "**pseudo_negations** - phrases that are false triggers, ambiguous negations, or double negatives\n",
        "\n",
        "**preceding_negations** - negation phrases that precede an entity\n",
        "\n",
        "**following_negations** - negation phrases that follow an entity\n",
        "\n",
        "**termination** - phrases that cut a sentence in parts, for purposes of negation detection (.e.g., \"but\")"
      ]
    },
    {
      "cell_type": "code",
      "metadata": {
        "colab": {
          "base_uri": "https://localhost:8080/"
        },
        "id": "zl3g4Djkr2Be",
        "outputId": "ccfe7d04-47fb-4612-9a60-b2533ca3a541"
      },
      "source": [
        "from negspacy.termsets import termset\n",
        "\n",
        "ts = termset(\"en_clinical\")\n",
        "ts_dict = ts.get_patterns()\n",
        "\n",
        "for key,value in ts_dict.items():\n",
        "  print(key,value)\n",
        "  print(\"\\n\")"
      ],
      "execution_count": 25,
      "outputs": [
        {
          "output_type": "stream",
          "name": "stdout",
          "text": [
            "pseudo_negations ['no further', 'not able to be', 'not certain if', 'not certain whether', 'not necessarily', 'without any further', 'without difficulty', 'without further', 'might not', 'not only', 'no increase', 'no significant change', 'no change', 'no definite change', 'not extend', 'not cause', 'gram negative', 'not rule out', 'not ruled out', 'not been ruled out', 'not drain', 'no suspicious change', 'no interval change', 'no significant interval change']\n",
            "\n",
            "\n",
            "preceding_negations ['absence of', 'declined', 'denied', 'denies', 'denying', 'no sign of', 'no signs of', 'not', 'not demonstrate', 'symptoms atypical', 'doubt', 'negative for', 'no', 'versus', 'without', \"doesn't\", 'doesnt', \"don't\", 'dont', \"didn't\", 'didnt', \"wasn't\", 'wasnt', \"weren't\", 'werent', \"isn't\", 'isnt', \"aren't\", 'arent', 'cannot', \"can't\", 'cant', \"couldn't\", 'couldnt', 'never', 'patient was not', 'without indication of', 'without sign of', 'without signs of', 'without any reactions or signs of', 'no complaints of', 'no evidence of', 'no cause of', 'evaluate for', 'fails to reveal', 'free of', 'never developed', 'never had', 'did not exhibit', 'rules out', 'rule out', 'rule him out', 'rule her out', 'rule patient out', 'rule the patient out', 'ruled out', 'ruled him out', 'ruled her out', 'ruled patient out', 'ruled the patient out', 'r/o', 'ro']\n",
            "\n",
            "\n",
            "following_negations ['declined', 'unlikely', 'was not', 'were not', \"wasn't\", 'wasnt', \"weren't\", 'werent', 'was ruled out', 'were ruled out', 'free']\n",
            "\n",
            "\n",
            "termination ['although', 'apart from', 'as there are', 'aside from', 'but', 'except', 'however', 'involving', 'nevertheless', 'still', 'though', 'which', 'yet', 'cause for', 'cause of', 'causes for', 'causes of', 'etiology for', 'etiology of', 'origin for', 'origin of', 'origins for', 'origins of', 'other possibilities of', 'reason for', 'reason of', 'reasons for', 'reasons of', 'secondary to', 'source for', 'source of', 'sources for', 'sources of', 'trigger event for']\n",
            "\n",
            "\n"
          ]
        }
      ]
    },
    {
      "cell_type": "markdown",
      "metadata": {
        "id": "AqDHio7AFHw9"
      },
      "source": [
        "## Putting it all together"
      ]
    },
    {
      "cell_type": "code",
      "metadata": {
        "id": "0OH7aKTxmylY"
      },
      "source": [
        "from nltk.corpus import stopwords\n",
        "\n",
        "def preprocess(nlp_model,input_text):\n",
        "  input_text = input_text.strip()\n",
        "  doc = nlp_model(input_text)\n",
        "  negation_list = [0]*len(doc)\n",
        "  tokens = list()\n",
        "  stop = set(stopwords.words('english')+list(string.punctuation))\n",
        "  stop.add(\"XXXX\")\n",
        "\n",
        "  for ent in doc.ents:\n",
        "    if ent._.negex:\n",
        "      index = ent.start\n",
        "      while index < ent.end:\n",
        "        negation_list[index] = 1\n",
        "        index += 1\n",
        "        \n",
        "  for i,token in enumerate(doc):\n",
        "    if str(token) not in stop:\n",
        "      if negation_list[i] == 1:\n",
        "        tokens.append((\"NEGEX_\"+str(token).lower()))\n",
        "      else:\n",
        "        tokens.append(str(token).lower())\n",
        "\n",
        "  return tokens\n"
      ],
      "execution_count": 26,
      "outputs": []
    },
    {
      "cell_type": "markdown",
      "metadata": {
        "id": "bggt3sfZeYJg"
      },
      "source": [
        "## Creating a vocabulary\n",
        "After preprocessing the text, it is time to scan through the entire training corpus (aka all of the text available) and create a vocabulary which is essentially an index of all tokens encountered.\n",
        "\n",
        "We will use the gensim [Dictionary](https://radimrehurek.com/gensim/corpora/dictionary.html) class for this as it has some useful methods.\n",
        "\n",
        "We can also set a threshold to filter out tokens using the gensim dict method filter_extremes() that occur below a specified frequency. This could be useful for removing misspelled words."
      ]
    },
    {
      "cell_type": "code",
      "metadata": {
        "id": "2LqwYpEjXDjs",
        "colab": {
          "base_uri": "https://localhost:8080/",
          "height": 35
        },
        "outputId": "a617e6f7-d908-4cf3-8665-c63d70933718"
      },
      "source": [
        "from gensim.corpora import Dictionary\n",
        "\n",
        "train_text = train_df[\"full-text\"].to_list()\n",
        "\n",
        "def token_generator(text_list):\n",
        "  for text in text_list:\n",
        "    yield preprocess(nlp,text)\n",
        "\n",
        "train_tokens = token_generator(train_text)\n",
        "train_vocab_dict = Dictionary(train_tokens)\n",
        "\n",
        "# gensim Dictionary does not create an id2token dictionary  until dictionary is called\n",
        "train_vocab_dict[0]"
      ],
      "execution_count": 27,
      "outputs": [
        {
          "output_type": "execute_result",
          "data": {
            "text/plain": [
              "'abnormality'"
            ],
            "application/vnd.google.colaboratory.intrinsic+json": {
              "type": "string"
            }
          },
          "metadata": {},
          "execution_count": 27
        }
      ]
    },
    {
      "cell_type": "code",
      "metadata": {
        "colab": {
          "base_uri": "https://localhost:8080/"
        },
        "id": "SKHBh7yKcw0N",
        "outputId": "98c017eb-8223-429a-9b87-72ba88637cd6"
      },
      "source": [
        "len(train_vocab_dict.token2id)"
      ],
      "execution_count": 28,
      "outputs": [
        {
          "output_type": "execute_result",
          "data": {
            "text/plain": [
              "2385"
            ]
          },
          "metadata": {},
          "execution_count": 28
        }
      ]
    },
    {
      "cell_type": "markdown",
      "metadata": {
        "id": "V2tEqwONfclV"
      },
      "source": [
        "We will also need to process the test set for later use. Note we don't create a dictionary from the test tokens as it is may contain \"out of vocabulary words\" that would not have been seen in training. We need to simulate how our model pipeline behaves when it encounters unseen text/words."
      ]
    },
    {
      "cell_type": "code",
      "metadata": {
        "id": "0FSV_cs2fU9d"
      },
      "source": [
        "test_text = test_df[\"full-text\"].to_list()\n",
        "test_tokens = token_generator(test_text)"
      ],
      "execution_count": 29,
      "outputs": []
    },
    {
      "cell_type": "markdown",
      "metadata": {
        "id": "Nx0MthQ91wAh"
      },
      "source": [
        "# Classification model - introducing Naive Bayes"
      ]
    },
    {
      "cell_type": "markdown",
      "metadata": {
        "id": "ZS3gRR_Y2Cd8"
      },
      "source": [
        "## Theory"
      ]
    },
    {
      "cell_type": "markdown",
      "source": [
        "![Implementing-Naive-Bayes-Classification-using-Python.png](data:image/png;base64,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)\n",
        "\n",
        "where \"A\" is a category (e.g. \"abnormal\") and \"B\" is a document (e.g. one report's text). \n",
        "[Figure reference](https://hands-on.cloud/implementing-naive-bayes-classification-using-python/)"
      ],
      "metadata": {
        "id": "Wp7EAK4fTtpJ"
      }
    },
    {
      "cell_type": "markdown",
      "metadata": {
        "id": "V_zv9jPL3SW7"
      },
      "source": [
        "Naive Bayes (NB) derives its name from Bayes' theorem.\n",
        "\n",
        "Our objective is to classifiy a document d with the best possible class prediction, $\\hat{c}$, where $c$ is the true class of document $d$\n",
        "\n",
        "$ \\hat{c} = \\underset{c \\in C}{argmax} \\: P(c|d) = \\underset{c \\in C}{argmax} \\frac{P(d|c)P(c)}{P(d)} $\n",
        "\n",
        "$P(d)$ is a constant so we can just find the class c that maximizes the numerator of the expression\n",
        "\n",
        "$ \\hat{c} = \\underset{c \\in C}{argmax} \\: P(d|c)P(c) $\n",
        "\n",
        "$P(c)$ is readily determined - it is the frequency of class c in the training set.\n",
        "\n",
        "For $P(d|c)$, we let the words (tokens) of document d be the features that define it. We assume the order of these features does not matter (bag of words) and that the probability of a feature occurring in document d is independent of other words already inside of document d (conditional independence between every pair of tokens).\n",
        "\n",
        "Based on this $P(d|c) = P(x_{1}, x_{2},...,x_{n}| c)$ where $x_i$ are the tokens x in d. If we assume independence among these words then this probability further breaks down into:\n",
        "\n",
        "$\\prod_{i = 1}^{n}{P(x_{i}|c)}$\n",
        "\n",
        "The different variations of Naive Bayes come from the different assumptions of what we assume the probability distribution of $P(x_{i}|c)$ looks like. \n",
        "\n",
        "If we assume a multinomial distribution, then we can estimate the probability $P(x_{i}|c)$ as $\\theta_{c,i}$ where the maximum likelihood estimator for theta for a multinomial is:\n",
        "\n",
        "$\\theta_{c,i} = \\frac{N_{c,i}}{N_{c}}$\n",
        "\n",
        "where $N_{c,i}$ is the total count of the token i occurring in class c and $N_{c}$ is the number of total tokens in class c. In practice, we use an additional smoothing term to this estimator by giving an extra count of $\\alpha$ to all words. This is to account for cases in which a token does not appear in class c to avoid a 0 in our product.\n",
        "\n",
        "$\\theta_{c,i} = \\frac{N_{c,i}+\\alpha}{N_{c}+\\alpha n}$ where n is the number of unique tokens\n",
        "\n",
        "See [here](https://scikit-learn.org/stable/modules/naive_bayes.html) for more information"
      ]
    },
    {
      "cell_type": "markdown",
      "metadata": {
        "id": "STdw1x_E16bC"
      },
      "source": [
        "## Code"
      ]
    },
    {
      "cell_type": "code",
      "metadata": {
        "id": "zW90rq3WeHj5"
      },
      "source": [
        "y_train = list(map(int,(train_df['label'] != \"normal\").to_list()))\n",
        "y_test = list(map(int,(test_df['label'] != \"normal\").to_list()))"
      ],
      "execution_count": 30,
      "outputs": []
    },
    {
      "cell_type": "markdown",
      "metadata": {
        "id": "C2QWpczbsgpU"
      },
      "source": [
        "The sklearn naive bayes implementation does not take compressed representations of a sparse matrix as input, so we will have to create a sparse vector representation of our bag of words format"
      ]
    },
    {
      "cell_type": "code",
      "metadata": {
        "id": "zQ0q-IfaesbM"
      },
      "source": [
        "def sparse_vector_create(tuple_list,vocab_len):\n",
        "#tuple_list will have data structure akin to gensim dictionary doc2bow output \n",
        "  sparse_vector = np.zeros(vocab_len)\n",
        "  for id,freq in tuple_list:\n",
        "    sparse_vector[id] = freq\n",
        "  return sparse_vector\n",
        "\n",
        "def sparse_vector_generator(tokens,vocab_dict,vocab_len):\n",
        "  for token in tokens:\n",
        "    yield sparse_vector_create(vocab_dict.doc2bow(token),vocab_len)\n",
        "\n",
        "# recreate generator object to reset it , otherwise will output empty result\n",
        "train_tokens = token_generator(train_text)\n",
        "x_train_sparse = [sparse_vector for sparse_vector in sparse_vector_generator(train_tokens,train_vocab_dict,len(train_vocab_dict))]\n"
      ],
      "execution_count": 31,
      "outputs": []
    },
    {
      "cell_type": "code",
      "metadata": {
        "colab": {
          "base_uri": "https://localhost:8080/"
        },
        "id": "R2wfh_v1dxA_",
        "outputId": "043b1c00-2275-4ace-f5c5-92a580822c69"
      },
      "source": [
        "from sklearn import naive_bayes\n",
        "\n",
        "nb_classifier = naive_bayes.MultinomialNB(alpha=1.0)\n",
        "\n",
        "nb_classifier.fit(x_train_sparse,y_train)"
      ],
      "execution_count": 32,
      "outputs": [
        {
          "output_type": "execute_result",
          "data": {
            "text/plain": [
              "MultinomialNB()"
            ]
          },
          "metadata": {},
          "execution_count": 32
        }
      ]
    },
    {
      "cell_type": "markdown",
      "metadata": {
        "id": "1rYR3aLUs0Vk"
      },
      "source": [
        "Let's try running our model on the test set. The test set may have words that are not included in the training vocabulary, so we will need 1 additional preprocessing step to handle such out-of-vocabulary words. The simplest approach is to simply ignore such words. The gensim dictionary doc2bow function automatically ignores out of vocabulary words.\n",
        "\n",
        "Other tokenization techniques (especially sub-word or character level) may avoid this issue all together by ensuring any string of text encontered is able to be tokenized and thus included into the vocabulary."
      ]
    },
    {
      "cell_type": "code",
      "metadata": {
        "colab": {
          "base_uri": "https://localhost:8080/"
        },
        "id": "tL5JHCiVh8E_",
        "outputId": "7c9b3f40-b3ee-42af-fd51-1e47aaf406f0"
      },
      "source": [
        "# doc2bow ignores out of vocabulary words\n",
        "train_vocab_dict.doc2bow([\"madeupword\"])"
      ],
      "execution_count": 33,
      "outputs": [
        {
          "output_type": "execute_result",
          "data": {
            "text/plain": [
              "[]"
            ]
          },
          "metadata": {},
          "execution_count": 33
        }
      ]
    },
    {
      "cell_type": "code",
      "metadata": {
        "id": "ZUywn0YpszSh"
      },
      "source": [
        "# basically the same code as the training version above but we're not storing each iteration of the for loop into an array\n",
        "\n",
        "test_tokens = token_generator(test_text)\n",
        "nb_predictions = list()\n",
        "\n",
        "for token in test_tokens:\n",
        "  test_sparse_vector = sparse_vector_create(train_vocab_dict.doc2bow(token),len(train_vocab_dict))\n",
        "  nb_predictions.append(nb_classifier.predict(test_sparse_vector.reshape(1,-1))[0])\n",
        " "
      ],
      "execution_count": 34,
      "outputs": []
    },
    {
      "cell_type": "markdown",
      "metadata": {
        "id": "J16it1OP_ydm"
      },
      "source": [
        "# More on sparse word vectors - term frequency inverse document frequency (tf-idf)"
      ]
    },
    {
      "cell_type": "markdown",
      "metadata": {
        "id": "JfjWcj7SAnJR"
      },
      "source": [
        "## Theory"
      ]
    },
    {
      "cell_type": "markdown",
      "metadata": {
        "id": "tn0jAUfHW5ZU"
      },
      "source": [
        "### tfidf\n",
        "\n",
        "Earlier we created vectors of raw term counts with respect to each document. These were called sparse vectors because they were largely 0 as many unique words tend to not show up in may documents and thus the counts of those words was 0 for most documents - represented as a 0 in the term vector in the corresponding index for that word.\n",
        "\n",
        "There is a related concept called term frequency-inverse document frequency. We start with related quantity to term count: the term frequency. For a given document d and term t, the term frequency(tf) is is $\\frac{f_{t,d}}{\\sum_{t' \\in d}{f_{t',d}}}$ where the denominator is just the number of words/terms in the document. Sometimes we prefer using the log of the tf term as importance of a term does not increase linearly but rather \"peaks\" after a certain point.\n",
        "\n",
        "We then multiply this \"tf\" by another term - the inverse document frequency (idf) which is usually $log{\\frac{N}{n_t}}$ where N is number of total documents and $n_t$ is number of documents that contain the term t.\n",
        "\n",
        "For an unseen document, the tf is readily calculated. The idf for the terms in the document however uses the weighting learned from the training data.\n",
        "\n",
        "More on sklearn [tfidf](https://scikit-learn.org/stable/modules/generated/sklearn.feature_extraction.text.TfidfTransformer.html)"
      ]
    },
    {
      "cell_type": "markdown",
      "metadata": {
        "id": "NmC0HOIUeHL8"
      },
      "source": [
        "### Support Vector Machine (SVM)\n",
        "\n"
      ]
    },
    {
      "cell_type": "markdown",
      "metadata": {
        "id": "SAcgfh9Dcqjk"
      },
      "source": [
        "The theory behind SVM is outside of the scope of this tutorial. However intuitively SVM classifiers classify data by finding a \"hyper-plane\" that separates two classes of data. One can think of a hyper plane as the multidimensional generalization of a line which the equivalent of a hyperplane for 2D space, or a plane which is the hyperplane for 3D space. The hyperplane is basically a linear \"plane\" in N dimensional space that separates the space into two sections (hence the plane being N-1 dimensional). The optimization objective for SVM is set such that it will choose a hyperplane by finding the plane that has the maximum \"margin\" between the two classes i.e. the largest distance between the plane and the closest data point of each class."
      ]
    },
    {
      "cell_type": "markdown",
      "metadata": {
        "id": "ECqSWs6q_0oV"
      },
      "source": [
        "## Code"
      ]
    },
    {
      "cell_type": "markdown",
      "metadata": {
        "id": "LJkXCj8t52UZ"
      },
      "source": [
        "The sklearn library readily comes with implementation of [tfidf](https://scikit-learn.org/stable/modules/generated/sklearn.feature_extraction.text.TfidfTransformer.html) and [SVM](https://scikit-learn.org/stable/modules/generated/sklearn.svm.SVC.html) which we will use here."
      ]
    },
    {
      "cell_type": "code",
      "metadata": {
        "id": "QgD87-CM7TQ9"
      },
      "source": [
        "from sklearn.feature_extraction.text import TfidfTransformer\n",
        "tfidf = TfidfTransformer(use_idf=True, smooth_idf = True,sublinear_tf = True)\n",
        "tfidf.fit(x_train_sparse)\n",
        "x_train_tfidf= tfidf.transform(x_train_sparse)"
      ],
      "execution_count": 35,
      "outputs": []
    },
    {
      "cell_type": "code",
      "metadata": {
        "colab": {
          "base_uri": "https://localhost:8080/"
        },
        "id": "d2YjvOT4EJOX",
        "outputId": "e3de212f-2281-45c0-a970-102377ca8077"
      },
      "source": [
        "from sklearn import svm\n",
        "\n",
        "SVM = svm.SVC(C=1.0,kernel ='linear')\n",
        "SVM.fit(x_train_tfidf,y_train)"
      ],
      "execution_count": 36,
      "outputs": [
        {
          "output_type": "execute_result",
          "data": {
            "text/plain": [
              "SVC(kernel='linear')"
            ]
          },
          "metadata": {},
          "execution_count": 36
        }
      ]
    },
    {
      "cell_type": "code",
      "metadata": {
        "id": "9DV7LL9xIFkB"
      },
      "source": [
        "test_tokens = token_generator(test_text)\n",
        "svm_predictions = list()\n",
        "\n",
        "for token in test_tokens:\n",
        "  test_sparse_vector = sparse_vector_create(train_vocab_dict.doc2bow(token),len(train_vocab_dict))\n",
        "  x_test_tfidf = tfidf.transform(test_sparse_vector.reshape(1,-1))\n",
        "  svm_predictions.append(SVM.predict(x_test_tfidf)[0])\n",
        "  "
      ],
      "execution_count": 37,
      "outputs": []
    },
    {
      "cell_type": "markdown",
      "metadata": {
        "id": "UZ3gwLdk3XQD"
      },
      "source": [
        "# Where to next?\n",
        "So far we have only examined sparse word vectors. That is, vector representations of words that contain many 0's and sparsely contain data. This may perform adequately for the models presented, but for many cases, working with large-dimension vectors can be a large problem due to high memory usage and computational cost.\n",
        "\n",
        "There has been work done to create dense vectors of words based on \"distributed\" representations (aka based on word distribution). These vectors are are usually only several tens to hundreds of dimensions long as opposed to many thousands. Earlier approaches for doing so include Word2vec and GloVe which create static vectors for word representations. Newer embedding approaches integrate context into embedding creation such as seen in ELMo or BERT's embedding process. \n",
        "\n",
        "Popular deep learning architectures for analyzing text include convolutional neural networks, recurrent neural networks and its cousins LSTM and GRU as well as the more recent transformer model. Deep learning approaches to NLP start with converting words into a vector in an embedding layer, often using one of the aforementioned techniques. We will not explore deep learning approaches to NLP in this tutorial, but since we have mentioned a number of popular NLP packages, we will also mention [HuggingFace](https://huggingface.co/) for their extensive NLP deep learning library. "
      ]
    },
    {
      "cell_type": "markdown",
      "metadata": {
        "id": "kJxrGbD62U26"
      },
      "source": [
        "# Evaluation\n",
        "\n",
        "Evaluation of model performance is a very important part of the NLP pipeline. Common metrics (for classification) include sensitivity (recall), specificity, positive predictive value (precision), and the F1 score. These quantities can be derived from a \"confusion matrix\" which is simply a matrix that tabulates model classification results into the categories of true negatives, false positives, false negatives, and true positives.\n",
        "\n",
        "For sklearn confusion matrix, the format is - row i is actual class, row j is predicted class. For our case, 0 - normal, 1 - abnormal. thus $C_{0,0}$ is true negatives, $C_{0,1}$ is false positive, $C_{1,0}$ is false negative, $C_{1,1}$ is true positives where $C_{i,j}$ refers to element in row i and column j. In this example, a \"positive\" label by the model is the equivalent of flagging an example as \"abnormal\".\n",
        "\n",
        "Note we cannot naturally generate a ROC curve for Naive Bayes or SVM as ROC curves require some threshold (usually some \"probability\" cut off for prediction of one class or another) but Naive Bayes simply compares two(or more) quantities with each other to determine class. While using relative comparisons works reasonably well, the numerical value of these outputs is unstable and unsuitable for a fixed cutoff."
      ]
    },
    {
      "cell_type": "code",
      "metadata": {
        "id": "qO3zQ04dnziV",
        "colab": {
          "base_uri": "https://localhost:8080/"
        },
        "outputId": "dc5dc3bf-8bd3-4a8c-beaa-61f974a7605f"
      },
      "source": [
        "from sklearn import metrics\n",
        "\n",
        "class metric_calc:\n",
        "  def __init__(self, y,y_hat):\n",
        "  # y is true label, y_hat is predicted label\n",
        "    self.y_hat = y_hat\n",
        "    self.y = y\n",
        "    conf_matrix = metrics.confusion_matrix(y,y_hat)\n",
        "    \n",
        "    self.true_neg = conf_matrix[0][0]\n",
        "    self.false_pos = conf_matrix[0][1]\n",
        "    self.false_neg = conf_matrix[1][0]\n",
        "    self.true_pos = conf_matrix[1][1]\n",
        "\n",
        "  def conf_matrix_values(self):\n",
        "    print(f\"TN: {self.true_neg}, FP: {self.false_pos}, FN: {self.false_neg} TP: {self.true_pos}\")\n",
        "\n",
        "  def sens_spec(self):\n",
        "    sens = self.true_pos/(self.true_pos+self.false_neg)\n",
        "    spec = self.true_neg/(self.true_neg+self.false_pos)\n",
        "    print(f\"Sensitivity (aka recall) is {sens:.4f}\")\n",
        "    print(f\"Specificity is {spec:.4f}\")\n",
        "\n",
        "  def incorrect_index(self):\n",
        "    # return indices of examples that are incorrectly predicted\n",
        "    index = list()\n",
        "    for i,label in enumerate(self.y):\n",
        "      if label != self.y_hat[i]:\n",
        "        index.append(i)\n",
        "    return index\n",
        "\n",
        "\n",
        "print(\"Naive Bayes\")\n",
        "nb_metric = metric_calc(y_test,nb_predictions)\n",
        "nb_metric.conf_matrix_values()\n",
        "nb_metric.sens_spec()\n",
        "\n",
        "print(\"SVM\")\n",
        "svm_metric = metric_calc(y_test,svm_predictions)\n",
        "svm_metric.conf_matrix_values()\n",
        "svm_metric.sens_spec()"
      ],
      "execution_count": 38,
      "outputs": [
        {
          "output_type": "stream",
          "name": "stdout",
          "text": [
            "Naive Bayes\n",
            "TN: 210, FP: 13, FN: 33 TP: 338\n",
            "Sensitivity (aka recall) is 0.9111\n",
            "Specificity is 0.9417\n",
            "SVM\n",
            "TN: 209, FP: 14, FN: 9 TP: 362\n",
            "Sensitivity (aka recall) is 0.9757\n",
            "Specificity is 0.9372\n"
          ]
        }
      ]
    },
    {
      "cell_type": "markdown",
      "source": [
        "#Feature importance investigation"
      ],
      "metadata": {
        "id": "6dvU5hOaW_bI"
      }
    },
    {
      "cell_type": "markdown",
      "source": [
        "It can be helpful to understand what words were most important for predicting an abnormal report for each of our models. We will use sklearn's built in attributes of each model's important features."
      ],
      "metadata": {
        "id": "D6jWWU7RXHoh"
      }
    },
    {
      "cell_type": "code",
      "source": [
        "import matplotlib.pyplot as plt\n",
        "\n",
        "# Helper function that plots max and min coefficients\n",
        "def plot_coefficients(classifier_feat_importances, feature_names, top_features=10):\n",
        " coef = classifier_feat_importances.ravel()\n",
        " top_positive_coefficients = np.argsort(coef)[-top_features:]\n",
        " top_negative_coefficients = np.argsort(coef)[:top_features]\n",
        " top_coefficients = np.hstack([top_negative_coefficients, top_positive_coefficients])\n",
        " \n",
        " # create plot\n",
        " plt.figure(figsize=(15, 5))\n",
        " colors = ['red' if c < top_features else 'blue' for c in range(len(top_coefficients))]\n",
        " plt.bar(np.arange(2 * top_features), coef[top_coefficients], color=colors)\n",
        " feature_names = np.array(feature_names)\n",
        " plt.xticks(np.arange(0, 2 * top_features), feature_names[top_coefficients], rotation=60, ha='right')\n",
        "\n",
        "\n",
        "\n",
        "#Naive Bayes \n",
        "NB_feat_importances = nb_classifier.feature_log_prob_[1,:]\n",
        "plot_coefficients(NB_feat_importances, list(train_vocab_dict.values()))\n",
        "plt.title('Top 10 Minimum and Top 10 Maximum Naive Bayes Classifier Feature Importances')\n",
        "plt.show()\n",
        "\n",
        "print('\\n\\n\\n')\n",
        "\n",
        "#SVM (TF-IDF)\n",
        "SVM_feat_importances = SVM.coef_.toarray()\n",
        "plot_coefficients(SVM_feat_importances, list(train_vocab_dict.values()))\n",
        "plt.title('Top 10 Minimum and Top 10 Maximum SVM Feature Importances')\n",
        "plt.show()\n"
      ],
      "metadata": {
        "colab": {
          "base_uri": "https://localhost:8080/",
          "height": 903
        },
        "id": "Y-S93HUKW-sk",
        "outputId": "32daf74c-d930-433c-f5b5-90ab9858f823"
      },
      "execution_count": 67,
      "outputs": [
        {
          "output_type": "display_data",
          "data": {
            "text/plain": [
              "<Figure size 1080x360 with 1 Axes>"
            ],
            "image/png": "[encoded data removed]"
          },
          "metadata": {
            "needs_background": "light"
          }
        },
        {
          "output_type": "stream",
          "name": "stdout",
          "text": [
            "\n",
            "\n",
            "\n",
            "\n"
          ]
        },
        {
          "output_type": "display_data",
          "data": {
            "text/plain": [
              "<Figure size 1080x360 with 1 Axes>"
            ],
            "image/png": "[encoded data removed]"
          },
          "metadata": {
            "needs_background": "light"
          }
        }
      ]
    },
    {
      "cell_type": "markdown",
      "metadata": {
        "id": "LWrHXW7Wwj88"
      },
      "source": [
        "# Manual examination of model\n",
        "\n",
        "Sometimes it is helpful (or simply entertaining) to try inserting your own free text into a NLP model and seeing how it behaves"
      ]
    },
    {
      "cell_type": "code",
      "metadata": {
        "colab": {
          "base_uri": "https://localhost:8080/"
        },
        "id": "eC6LqmCcr11r",
        "outputId": "25e244f2-462d-499d-f3e9-ddb2c4405bea"
      },
      "source": [
        "#@title Try entering some free text for classification via the classifiers we trained\n",
        "user_text = \"pneumothorax noted\" #@param {type:\"string\"}\n",
        "user_token = preprocess(nlp,user_text)\n",
        "user_sparse_vector = sparse_vector_create(train_vocab_dict.doc2bow(user_token),len(train_vocab_dict))\n",
        "user_nb_prediction = nb_classifier.predict(user_sparse_vector.reshape(1,-1))[0]\n",
        "user_svm_prediction = SVM.predict(user_sparse_vector.reshape(1,-1))[0]\n",
        "\n",
        "print(\"Convention used - 0 is normal, 1 is abnormal\")\n",
        "print(f\"Naive Bayes: {user_nb_prediction}\")\n",
        "print(f\"SVM: {user_svm_prediction}\")"
      ],
      "execution_count": 40,
      "outputs": [
        {
          "output_type": "stream",
          "name": "stdout",
          "text": [
            "Convention used - 0 is normal, 1 is abnormal\n",
            "Naive Bayes: 1\n",
            "SVM: 1\n"
          ]
        }
      ]
    },
    {
      "cell_type": "markdown",
      "metadata": {
        "id": "AVnGEqzcO1ZE"
      },
      "source": [
        "## Error Analysis\n",
        "\n",
        "Manual examination of model errors for systematic errors is also an important post evaluation step."
      ]
    },
    {
      "cell_type": "code",
      "metadata": {
        "colab": {
          "base_uri": "https://localhost:8080/",
          "height": 1000
        },
        "id": "F17is6e3L1l5",
        "outputId": "d6891fbf-4cb5-456f-8326-09329c665f72"
      },
      "source": [
        "troubleshoot_df = test_df.iloc[svm_metric.incorrect_index()][[\"full-text\",\"label\"]]\n",
        "troubleshoot_df[\"SVM\"] = [svm_predictions[i] for i in svm_metric.incorrect_index()]\n",
        "troubleshoot_df"
      ],
      "execution_count": 41,
      "outputs": [
        {
          "output_type": "execute_result",
          "data": {
            "text/plain": [
              "                                                                                                                                                                                                                                                                                                                                                                                                                                                                                                                                                                                                                                full-text  \\\n",
              "1511  Cardiomediastinal silhouette is within normal limits. No focal consolidation. No pneumothorax or large pleural effusion. No acute bony abnormalities. Contrast is seen within the bilateral kidneys, from prior examination. No acute cardiopulmonary abnormality. .                                                                                                                                                                                                                                                                                                                                                                  \n",
              "1945   Heart size upper limits normal. Mediastinal silhouette and pulmonary vascularity within normal limits. No edema, focal airspace consolidation, or pneumothorax. XXXX pleural effusion versus minimal pleural thickening bilaterally.                                                                                                                                                                                                                                                                                                                                                                                                 \n",
              "1015                                                                                                                                                                                                                                                                                                                                                                                                                                                                                                                                                                                                                                        \n",
              "3246  Cardiomediastinal silhouette is normal. Pulmonary vasculature and XXXX are normal. No consolidation, pneumothorax or large pleural effusion. Postsurgical changes of the cervical spine are present. No acute cardiopulmonary disease.                                                                                                                                                                                                                                                                                                                                                                                                \n",
              "2422  Normal cardiac size. Normal pulmonary vasculature. No airspace disease. Negative for pneumothorax. Negative for acute osseous deformity. The thoracic spine has a normal appearance. Unremarkable 2 views of the chest.                                                                                                                                                                                                                                                                                                                                                                                                               \n",
              "616   Heart size is within normal limits. Aorta is tortuous. Remainder of the cardiomediastinal silhouette is normal. Lungs are clear bilaterally without pleural effusion or pneumothorax. No bony abnormalities. No active disease.                                                                                                                                                                                                                                                                                                                                                                                                       \n",
              "983   The cardiac silhouette and pulmonary vascularity are normal. The lungs are clear. There is no evidence of pleural effusion. Postoperative changes are noted in the mediastinum and lower cervical spine. No evidence of acute cardiopulmonary disease.                                                                                                                                                                                                                                                                                                                                                                                \n",
              "1686                                                                                                                                                                                                                                                                                                                                                                                                                                                                                                                                                                                                                                        \n",
              "3231   Compared with prior examination mildly improved inspirational XXXX. Lung parenchyma is not clear. No acute airspace disease, large pleural effusions or pulmonary edema. No XXXX of acute cardiopulmonary disease.                                                                                                                                                                                                                                                                                                                                                                                                                   \n",
              "1268  The cardiomediastinal silhouette and pulmonary vasculature are within normal limits in size. The lungs are clear of focal airspace disease, pneumothorax, or pleural effusion. There are no acute bony findings. Cardiac defibrillator leads are stable. No acute cardiopulmonary findings. .                                                                                                                                                                                                                                                                                                                                         \n",
              "1640                                                                                                                                                                                                                                                                                                                                                                                                                                                                                                                                                                                                                                        \n",
              "1188  Chest: The heart is enlarged. There may be a pericardial effusion. No definite pulmonary edema is seen. Lungs appear clear. There is no pleural effusion. The skeletal structures and soft tissues are unremarkable. KUB XXXX: XXXX single view of the abdomen was obtained. The bowel XXXX pattern is nonspecific. There is no evidence for obstruction or free intraperitoneal air. No large soft tissue masses or organomegaly are identified. The skeletal structures appear normal. Chest. 1. Cardiomegaly with possible pericardial effusion. 2. No evidence for pulmonary edema or pneumonitis. KUB. 1. Nonspecific abdomen.   \n",
              "570   Single view of chest was obtained in AP projection. Limited study secondary to body habitus. The cardiomediastinal silhouette is not enlarged. Lungs demonstrate no focal infiltrates. There is no effusion or pneumothorax. 1. No acute pulmonary disease.                                                                                                                                                                                                                                                                                                                                                                           \n",
              "1678                                                                                                                                                                                                                                                                                                                                                                                                                                                                                                                                                                                                                                        \n",
              "2965  The cardiomediastinal silhouette and pulmonary vasculature are within normal limits in size. The lungs are clear of focal airspace disease, pneumothorax, or pleural effusion. Lung volumes are low normal. There are no acute bony findings. No acute cardiopulmonary findings. .                                                                                                                                                                                                                                                                                                                                                    \n",
              "608   The lateral view is nondiagnostic due to patient positioning. Normal heart size and mediastinal contours. No focal airspace consolidation. No pneumothorax or large pleural effusion. Visualized osseous structures are unremarkable in appearance. 1. Technically limited exam. 2. No acute cardiopulmonary abnormalities. .                                                                                                                                                                                                                                                                                                         \n",
              "584    No comparisons. Heart size is normal. Lungs are clear. Status post coronary artery bypass grafting.                                                                                                                                                                                                                                                                                                                                                                                                                                                                                                                                  \n",
              "2106  The cardiomediastinal silhouette is normal in size and contour. No focal consolidation, pneumothorax or large pleural effusion. Negative for acute displaced rib fracture. No discrete XXXX projectile visualized. Contrast within the bilateral renal collecting systems. Contrast also probably within the left colon. Negative for acute abnormality. Discrete XXXX projectile not seen.                                                                                                                                                                                                                                           \n",
              "2058                                                                                                                                                                                                                                                                                                                                                                                                                                                                                                                                                                                                                                        \n",
              "2974   Heart size is at upper limits normal. Mediastinal silhouette otherwise and pulmonary vascularity is within normal limits. Left chest wall changes suggest prior thoracotomy. No pleural effusion or pneumothorax. No focal airspace consolidation.                                                                                                                                                                                                                                                                                                                                                                                   \n",
              "1851  The XXXX examination consists of frontal and lateral radiographs of the chest. There has been interval CABG. Surgical clips are again seen in the epigastric region. The cardiomediastinal contours are within normal limits. Pulmonary vascularity is within normal limits. No focal consolidation, pleural effusion, or pneumothorax identified. The visualized osseous structures are unremarkable. No evidence of acute cardiopulmonary process. Interval CABG.                                                                                                                                                                   \n",
              "427   Heart size is normal. The lungs are clear. There are no focal air space consolidations. No pleural effusions or pneumothoraces. The hilar and mediastinal contours are normal. Normal pulmonary vascularity. Umbilical piercing. No acute abnormality. .                                                                                                                                                                                                                                                                                                                                                                              \n",
              "1884  Frontal and lateral views of the chest show an unchanged cardiomediastinal silhouette. Normal mediastinal contour, pulmonary XXXX and vasculature, central airways and aeration of the lungs. The inferior posterior sulcus is excluded. No acute or active cardiac or pulmonary disease process. Cannot exclude small pleural effusions.                                                                                                                                                                                                                                                                                             \n",
              "\n",
              "         label  SVM  \n",
              "1511  abnormal  0    \n",
              "1945  abnormal  0    \n",
              "1015  normal    1    \n",
              "3246  normal    1    \n",
              "2422  normal    1    \n",
              "616   abnormal  0    \n",
              "983   normal    1    \n",
              "1686  normal    1    \n",
              "3231  normal    1    \n",
              "1268  abnormal  0    \n",
              "1640  normal    1    \n",
              "1188  abnormal  0    \n",
              "570   normal    1    \n",
              "1678  normal    1    \n",
              "2965  normal    1    \n",
              "608   abnormal  0    \n",
              "584   normal    1    \n",
              "2106  normal    1    \n",
              "2058  normal    1    \n",
              "2974  normal    1    \n",
              "1851  abnormal  0    \n",
              "427   abnormal  0    \n",
              "1884  abnormal  0    "
            ],
            "text/html": [
              "\n",
              "  <div id=\"df-bc2d24f3-d464-4a2f-a23e-65127b972d07\">\n",
              "    <div class=\"colab-df-container\">\n",
              "      <div>\n",
              "<style scoped>\n",
              "    .dataframe tbody tr th:only-of-type {\n",
              "        vertical-align: middle;\n",
              "    }\n",
              "\n",
              "    .dataframe tbody tr th {\n",
              "        vertical-align: top;\n",
              "    }\n",
              "\n",
              "    .dataframe thead th {\n",
              "        text-align: right;\n",
              "    }\n",
              "</style>\n",
              "<table border=\"1\" class=\"dataframe\">\n",
              "  <thead>\n",
              "    <tr style=\"text-align: right;\">\n",
              "      <th></th>\n",
              "      <th>full-text</th>\n",
              "      <th>label</th>\n",
              "      <th>SVM</th>\n",
              "    </tr>\n",
              "  </thead>\n",
              "  <tbody>\n",
              "    <tr>\n",
              "      <th>1511</th>\n",
              "      <td>Cardiomediastinal silhouette is within normal limits. No focal consolidation. No pneumothorax or large pleural effusion. No acute bony abnormalities. Contrast is seen within the bilateral kidneys, from prior examination. No acute cardiopulmonary abnormality. .</td>\n",
              "      <td>abnormal</td>\n",
              "      <td>0</td>\n",
              "    </tr>\n",
              "    <tr>\n",
              "      <th>1945</th>\n",
              "      <td>Heart size upper limits normal. Mediastinal silhouette and pulmonary vascularity within normal limits. No edema, focal airspace consolidation, or pneumothorax. XXXX pleural effusion versus minimal pleural thickening bilaterally.</td>\n",
              "      <td>abnormal</td>\n",
              "      <td>0</td>\n",
              "    </tr>\n",
              "    <tr>\n",
              "      <th>1015</th>\n",
              "      <td></td>\n",
              "      <td>normal</td>\n",
              "      <td>1</td>\n",
              "    </tr>\n",
              "    <tr>\n",
              "      <th>3246</th>\n",
              "      <td>Cardiomediastinal silhouette is normal. Pulmonary vasculature and XXXX are normal. No consolidation, pneumothorax or large pleural effusion. Postsurgical changes of the cervical spine are present. No acute cardiopulmonary disease.</td>\n",
              "      <td>normal</td>\n",
              "      <td>1</td>\n",
              "    </tr>\n",
              "    <tr>\n",
              "      <th>2422</th>\n",
              "      <td>Normal cardiac size. Normal pulmonary vasculature. No airspace disease. Negative for pneumothorax. Negative for acute osseous deformity. The thoracic spine has a normal appearance. Unremarkable 2 views of the chest.</td>\n",
              "      <td>normal</td>\n",
              "      <td>1</td>\n",
              "    </tr>\n",
              "    <tr>\n",
              "      <th>616</th>\n",
              "      <td>Heart size is within normal limits. Aorta is tortuous. Remainder of the cardiomediastinal silhouette is normal. Lungs are clear bilaterally without pleural effusion or pneumothorax. No bony abnormalities. No active disease.</td>\n",
              "      <td>abnormal</td>\n",
              "      <td>0</td>\n",
              "    </tr>\n",
              "    <tr>\n",
              "      <th>983</th>\n",
              "      <td>The cardiac silhouette and pulmonary vascularity are normal. The lungs are clear. There is no evidence of pleural effusion. Postoperative changes are noted in the mediastinum and lower cervical spine. No evidence of acute cardiopulmonary disease.</td>\n",
              "      <td>normal</td>\n",
              "      <td>1</td>\n",
              "    </tr>\n",
              "    <tr>\n",
              "      <th>1686</th>\n",
              "      <td></td>\n",
              "      <td>normal</td>\n",
              "      <td>1</td>\n",
              "    </tr>\n",
              "    <tr>\n",
              "      <th>3231</th>\n",
              "      <td>Compared with prior examination mildly improved inspirational XXXX. Lung parenchyma is not clear. No acute airspace disease, large pleural effusions or pulmonary edema. No XXXX of acute cardiopulmonary disease.</td>\n",
              "      <td>normal</td>\n",
              "      <td>1</td>\n",
              "    </tr>\n",
              "    <tr>\n",
              "      <th>1268</th>\n",
              "      <td>The cardiomediastinal silhouette and pulmonary vasculature are within normal limits in size. The lungs are clear of focal airspace disease, pneumothorax, or pleural effusion. There are no acute bony findings. Cardiac defibrillator leads are stable. No acute cardiopulmonary findings. .</td>\n",
              "      <td>abnormal</td>\n",
              "      <td>0</td>\n",
              "    </tr>\n",
              "    <tr>\n",
              "      <th>1640</th>\n",
              "      <td></td>\n",
              "      <td>normal</td>\n",
              "      <td>1</td>\n",
              "    </tr>\n",
              "    <tr>\n",
              "      <th>1188</th>\n",
              "      <td>Chest: The heart is enlarged. There may be a pericardial effusion. No definite pulmonary edema is seen. Lungs appear clear. There is no pleural effusion. The skeletal structures and soft tissues are unremarkable. KUB XXXX: XXXX single view of the abdomen was obtained. The bowel XXXX pattern is nonspecific. There is no evidence for obstruction or free intraperitoneal air. No large soft tissue masses or organomegaly are identified. The skeletal structures appear normal. Chest. 1. Cardiomegaly with possible pericardial effusion. 2. No evidence for pulmonary edema or pneumonitis. KUB. 1. Nonspecific abdomen.</td>\n",
              "      <td>abnormal</td>\n",
              "      <td>0</td>\n",
              "    </tr>\n",
              "    <tr>\n",
              "      <th>570</th>\n",
              "      <td>Single view of chest was obtained in AP projection. Limited study secondary to body habitus. The cardiomediastinal silhouette is not enlarged. Lungs demonstrate no focal infiltrates. There is no effusion or pneumothorax. 1. No acute pulmonary disease.</td>\n",
              "      <td>normal</td>\n",
              "      <td>1</td>\n",
              "    </tr>\n",
              "    <tr>\n",
              "      <th>1678</th>\n",
              "      <td></td>\n",
              "      <td>normal</td>\n",
              "      <td>1</td>\n",
              "    </tr>\n",
              "    <tr>\n",
              "      <th>2965</th>\n",
              "      <td>The cardiomediastinal silhouette and pulmonary vasculature are within normal limits in size. The lungs are clear of focal airspace disease, pneumothorax, or pleural effusion. Lung volumes are low normal. There are no acute bony findings. No acute cardiopulmonary findings. .</td>\n",
              "      <td>normal</td>\n",
              "      <td>1</td>\n",
              "    </tr>\n",
              "    <tr>\n",
              "      <th>608</th>\n",
              "      <td>The lateral view is nondiagnostic due to patient positioning. Normal heart size and mediastinal contours. No focal airspace consolidation. No pneumothorax or large pleural effusion. Visualized osseous structures are unremarkable in appearance. 1. Technically limited exam. 2. No acute cardiopulmonary abnormalities. .</td>\n",
              "      <td>abnormal</td>\n",
              "      <td>0</td>\n",
              "    </tr>\n",
              "    <tr>\n",
              "      <th>584</th>\n",
              "      <td>No comparisons. Heart size is normal. Lungs are clear. Status post coronary artery bypass grafting.</td>\n",
              "      <td>normal</td>\n",
              "      <td>1</td>\n",
              "    </tr>\n",
              "    <tr>\n",
              "      <th>2106</th>\n",
              "      <td>The cardiomediastinal silhouette is normal in size and contour. No focal consolidation, pneumothorax or large pleural effusion. Negative for acute displaced rib fracture. No discrete XXXX projectile visualized. Contrast within the bilateral renal collecting systems. Contrast also probably within the left colon. Negative for acute abnormality. Discrete XXXX projectile not seen.</td>\n",
              "      <td>normal</td>\n",
              "      <td>1</td>\n",
              "    </tr>\n",
              "    <tr>\n",
              "      <th>2058</th>\n",
              "      <td></td>\n",
              "      <td>normal</td>\n",
              "      <td>1</td>\n",
              "    </tr>\n",
              "    <tr>\n",
              "      <th>2974</th>\n",
              "      <td>Heart size is at upper limits normal. Mediastinal silhouette otherwise and pulmonary vascularity is within normal limits. Left chest wall changes suggest prior thoracotomy. No pleural effusion or pneumothorax. No focal airspace consolidation.</td>\n",
              "      <td>normal</td>\n",
              "      <td>1</td>\n",
              "    </tr>\n",
              "    <tr>\n",
              "      <th>1851</th>\n",
              "      <td>The XXXX examination consists of frontal and lateral radiographs of the chest. There has been interval CABG. Surgical clips are again seen in the epigastric region. The cardiomediastinal contours are within normal limits. Pulmonary vascularity is within normal limits. No focal consolidation, pleural effusion, or pneumothorax identified. The visualized osseous structures are unremarkable. No evidence of acute cardiopulmonary process. Interval CABG.</td>\n",
              "      <td>abnormal</td>\n",
              "      <td>0</td>\n",
              "    </tr>\n",
              "    <tr>\n",
              "      <th>427</th>\n",
              "      <td>Heart size is normal. The lungs are clear. There are no focal air space consolidations. No pleural effusions or pneumothoraces. The hilar and mediastinal contours are normal. Normal pulmonary vascularity. Umbilical piercing. No acute abnormality. .</td>\n",
              "      <td>abnormal</td>\n",
              "      <td>0</td>\n",
              "    </tr>\n",
              "    <tr>\n",
              "      <th>1884</th>\n",
              "      <td>Frontal and lateral views of the chest show an unchanged cardiomediastinal silhouette. Normal mediastinal contour, pulmonary XXXX and vasculature, central airways and aeration of the lungs. The inferior posterior sulcus is excluded. No acute or active cardiac or pulmonary disease process. Cannot exclude small pleural effusions.</td>\n",
              "      <td>abnormal</td>\n",
              "      <td>0</td>\n",
              "    </tr>\n",
              "  </tbody>\n",
              "</table>\n",
              "</div>\n",
              "      <button class=\"colab-df-convert\" onclick=\"convertToInteractive('df-bc2d24f3-d464-4a2f-a23e-65127b972d07')\"\n",
              "              title=\"Convert this dataframe to an interactive table.\"\n",
              "              style=\"display:none;\">\n",
              "        \n",
              "  <svg xmlns=\"http://www.w3.org/2000/svg\" height=\"24px\"viewBox=\"0 0 24 24\"\n",
              "       width=\"24px\">\n",
              "    <path d=\"M0 0h24v24H0V0z\" fill=\"none\"/>\n",
              "    <path d=\"M18.56 5.44l.94 2.06.94-2.06 2.06-.94-2.06-.94-.94-2.06-.94 2.06-2.06.94zm-11 1L8.5 8.5l.94-2.06 2.06-.94-2.06-.94L8.5 2.5l-.94 2.06-2.06.94zm10 10l.94 2.06.94-2.06 2.06-.94-2.06-.94-.94-2.06-.94 2.06-2.06.94z\"/><path d=\"M17.41 7.96l-1.37-1.37c-.4-.4-.92-.59-1.43-.59-.52 0-1.04.2-1.43.59L10.3 9.45l-7.72 7.72c-.78.78-.78 2.05 0 2.83L4 21.41c.39.39.9.59 1.41.59.51 0 1.02-.2 1.41-.59l7.78-7.78 2.81-2.81c.8-.78.8-2.07 0-2.86zM5.41 20L4 18.59l7.72-7.72 1.47 1.35L5.41 20z\"/>\n",
              "  </svg>\n",
              "      </button>\n",
              "      \n",
              "  <style>\n",
              "    .colab-df-container {\n",
              "      display:flex;\n",
              "      flex-wrap:wrap;\n",
              "      gap: 12px;\n",
              "    }\n",
              "\n",
              "    .colab-df-convert {\n",
              "      background-color: #E8F0FE;\n",
              "      border: none;\n",
              "      border-radius: 50%;\n",
              "      cursor: pointer;\n",
              "      display: none;\n",
              "      fill: #1967D2;\n",
              "      height: 32px;\n",
              "      padding: 0 0 0 0;\n",
              "      width: 32px;\n",
              "    }\n",
              "\n",
              "    .colab-df-convert:hover {\n",
              "      background-color: #E2EBFA;\n",
              "      box-shadow: 0px 1px 2px rgba(60, 64, 67, 0.3), 0px 1px 3px 1px rgba(60, 64, 67, 0.15);\n",
              "      fill: #174EA6;\n",
              "    }\n",
              "\n",
              "    [theme=dark] .colab-df-convert {\n",
              "      background-color: #3B4455;\n",
              "      fill: #D2E3FC;\n",
              "    }\n",
              "\n",
              "    [theme=dark] .colab-df-convert:hover {\n",
              "      background-color: #434B5C;\n",
              "      box-shadow: 0px 1px 3px 1px rgba(0, 0, 0, 0.15);\n",
              "      filter: drop-shadow(0px 1px 2px rgba(0, 0, 0, 0.3));\n",
              "      fill: #FFFFFF;\n",
              "    }\n",
              "  </style>\n",
              "\n",
              "      <script>\n",
              "        const buttonEl =\n",
              "          document.querySelector('#df-bc2d24f3-d464-4a2f-a23e-65127b972d07 button.colab-df-convert');\n",
              "        buttonEl.style.display =\n",
              "          google.colab.kernel.accessAllowed ? 'block' : 'none';\n",
              "\n",
              "        async function convertToInteractive(key) {\n",
              "          const element = document.querySelector('#df-bc2d24f3-d464-4a2f-a23e-65127b972d07');\n",
              "          const dataTable =\n",
              "            await google.colab.kernel.invokeFunction('convertToInteractive',\n",
              "                                                     [key], {});\n",
              "          if (!dataTable) return;\n",
              "\n",
              "          const docLinkHtml = 'Like what you see? Visit the ' +\n",
              "            '<a target=\"_blank\" href=https://colab.research.google.com/notebooks/data_table.ipynb>data table notebook</a>'\n",
              "            + ' to learn more about interactive tables.';\n",
              "          element.innerHTML = '';\n",
              "          dataTable['output_type'] = 'display_data';\n",
              "          await google.colab.output.renderOutput(dataTable, element);\n",
              "          const docLink = document.createElement('div');\n",
              "          docLink.innerHTML = docLinkHtml;\n",
              "          element.appendChild(docLink);\n",
              "        }\n",
              "      </script>\n",
              "    </div>\n",
              "  </div>\n",
              "  "
            ]
          },
          "metadata": {},
          "execution_count": 41
        }
      ]
    },
    {
      "cell_type": "code",
      "metadata": {
        "colab": {
          "base_uri": "https://localhost:8080/",
          "height": 1000
        },
        "id": "vrA-F4wQOjJ_",
        "outputId": "68c232a5-371e-4bb8-8d74-d5b7ae21bb2a"
      },
      "source": [
        "troubleshoot_df = test_df.iloc[nb_metric.incorrect_index()][[\"full-text\",\"label\"]]\n",
        "troubleshoot_df[\"nb\"] = [nb_predictions[i] for i in nb_metric.incorrect_index()]\n",
        "troubleshoot_df"
      ],
      "execution_count": 42,
      "outputs": [
        {
          "output_type": "execute_result",
          "data": {
            "text/plain": [
              "                                                                                                                                                                                                                                                                                                                                                                                                                                                                                                                                                                       full-text  \\\n",
              "563   Normal heart size mediastinal contours. No focal airspace consolidation. No pneumothorax or pleural effusion. Stable, mild dextro curvature of the spine. No acute cardiopulmonary abnormality.                                                                                                                                                                                                                                                                                                                                                                              \n",
              "2818  Cardiac and mediastinal contours are within normal limits. The lungs are clear. Mild prominence left hilar contour. Bony structures are intact. No acute preoperative findings.                                                                                                                                                                                                                                                                                                                                                                                              \n",
              "2862  There are low lung volumes. The lungs are clear. No focal airspace consolidation. No pleural effusion or pneumothorax. Heart size and mediastinal contour appear within normal limits. No acute abnormality demonstrated.                                                                                                                                                                                                                                                                                                                                                    \n",
              "933   Low lung volumes. No focal consolidation, effusion, or pneumothorax. Normal heart size. Bony thorax and soft tissues grossly unremarkable No radiographic evidence of acute cardiopulmonary disease.                                                                                                                                                                                                                                                                                                                                                                         \n",
              "1511  Cardiomediastinal silhouette is within normal limits. No focal consolidation. No pneumothorax or large pleural effusion. No acute bony abnormalities. Contrast is seen within the bilateral kidneys, from prior examination. No acute cardiopulmonary abnormality. .                                                                                                                                                                                                                                                                                                         \n",
              "99    Cardiomediastinal silhouettes are within normal limits. Lungs are hyperexpanded. Lungs are clear without focal consolidation, pneumothorax, or pleural effusion. Bony thorax is unremarkable. No acute cardiopulmonary abnormalities.                                                                                                                                                                                                                                                                                                                                        \n",
              "3860   Tortuous thoracic aorta. Well-expanded and clear lungs. Mediastinal contour within normal limits. No acute cardiopulmonary abnormality identified.                                                                                                                                                                                                                                                                                                                                                                                                                          \n",
              "1945   Heart size upper limits normal. Mediastinal silhouette and pulmonary vascularity within normal limits. No edema, focal airspace consolidation, or pneumothorax. XXXX pleural effusion versus minimal pleural thickening bilaterally.                                                                                                                                                                                                                                                                                                                                        \n",
              "2235  Low lung volumes with magnified appearance of the heart, XXXX normal heart size. Negative for consolidation, effusion, or pneumothorax. Bony thorax and soft tissues grossly unremarkable. Negative for acute cardiopulmonary abnormality.                                                                                                                                                                                                                                                                                                                                   \n",
              "1299  The lungs are clear, and without focal airspace opacity. The cardiomediastinal silhouette is normal in size and contour, and stable. There is no pneumothorax or large pleural effusion. XXXX foreign body in the posterior soft tissues appear stable. No acute cardiopulmonary abnormality.                                                                                                                                                                                                                                                                                \n",
              "625    Comparison XXXX, XXXX. Anticipated senescent changes. No acute airspace disease or CHF. Stable mediastinal contour. No XXXX acute abnormalities since the previous examination..                                                                                                                                                                                                                                                                                                                                                                                            \n",
              "1158  Normal heart size. Mild unfolding of the thoracic aorta. No focal airspace opacity. No pleural effusion or pneumothorax. Visualized osseous structures are unremarkable in appearance. No acute cardiopulmonary abnormalities.                                                                                                                                                                                                                                                                                                                                               \n",
              "3939  The XXXX examination consists of frontal and lateral radiographs of the chest. The cardiomediastinal contours are within normal limits. Pulmonary vascularity is within normal limits. No focal consolidation, pleural effusion, or pneumothorax identified. Oval sclerotic density projecting over the inferior right glenoid may represent synovial osteochondromatosis or cortical XXXX XXXX. This is unchanged 31 17 XXXX. The remaining osseous structures and visualized upper abdomen are unremarkable in appearance. No evidence of acute cardiopulmonary process.   \n",
              "1015                                                                                                                                                                                                                                                                                                                                                                                                                                                                                                                                                                               \n",
              "2757  The heart size is upper limits of normal. The pulmonary XXXX and mediastinum are within normal limits. There is no pleural effusion or pneumothorax. There is no focal air space opacity to suggest a pneumonia. There are minimal degenerative changes of the spine. No acute cardiopulmonary disease.                                                                                                                                                                                                                                                                      \n",
              "3365  The lungs are clear. The heart and pulmonary XXXX are normal. Pleural spaces are clear. The mediastinal contours are normal. There is calcification of the thoracic aorta. No acute cardiopulmonary disease. No evidence of pneumonia.                                                                                                                                                                                                                                                                                                                                       \n",
              "3246  Cardiomediastinal silhouette is normal. Pulmonary vasculature and XXXX are normal. No consolidation, pneumothorax or large pleural effusion. Postsurgical changes of the cervical spine are present. No acute cardiopulmonary disease.                                                                                                                                                                                                                                                                                                                                       \n",
              "2683  No The cardiomediastinal silhouette and pulmonary vasculature are within normal limits. There is no pneumothorax or pleural effusion. There are no focal areas of consolidation. There are T-spine osteophytes. No acute cardiopulmonary abnormality.                                                                                                                                                                                                                                                                                                                        \n",
              "616   Heart size is within normal limits. Aorta is tortuous. Remainder of the cardiomediastinal silhouette is normal. Lungs are clear bilaterally without pleural effusion or pneumothorax. No bony abnormalities. No active disease.                                                                                                                                                                                                                                                                                                                                              \n",
              "114   Trachea is midline. The cardiomediastinal silhouette is normal. The lungs are clear without evidence of acute infiltrate or effusion. There is no evidence of tuberculous disease. There is no pneumothorax. There is dextroscoliosis of the lower thoracic spine. No acute cardiopulmonary abnormalities.                                                                                                                                                                                                                                                                   \n",
              "983   The cardiac silhouette and pulmonary vascularity are normal. The lungs are clear. There is no evidence of pleural effusion. Postoperative changes are noted in the mediastinum and lower cervical spine. No evidence of acute cardiopulmonary disease.                                                                                                                                                                                                                                                                                                                       \n",
              "1686                                                                                                                                                                                                                                                                                                                                                                                                                                                                                                                                                                               \n",
              "3231   Compared with prior examination mildly improved inspirational XXXX. Lung parenchyma is not clear. No acute airspace disease, large pleural effusions or pulmonary edema. No XXXX of acute cardiopulmonary disease.                                                                                                                                                                                                                                                                                                                                                          \n",
              "1268  The cardiomediastinal silhouette and pulmonary vasculature are within normal limits in size. The lungs are clear of focal airspace disease, pneumothorax, or pleural effusion. There are no acute bony findings. Cardiac defibrillator leads are stable. No acute cardiopulmonary findings. .                                                                                                                                                                                                                                                                                \n",
              "2731   Normal heart size and normal mediastinal contours. Normal pulmonary vasculature. No XXXX of pleural effusions. No infiltrates. Moderate scoliosis in the thoracolumbar spine. Normal X-XXXX of chest.                                                                                                                                                                                                                                                                                                                                                                       \n",
              "1640                                                                                                                                                                                                                                                                                                                                                                                                                                                                                                                                                                               \n",
              "494   The heart is normal in size and contour. There is no mediastinal widening. Low lung volumes. No focal airspace disease. No large pleural effusion or pneumothorax. The XXXX are intact. No acute cardiopulmonary abnormalities.                                                                                                                                                                                                                                                                                                                                              \n",
              "570   Single view of chest was obtained in AP projection. Limited study secondary to body habitus. The cardiomediastinal silhouette is not enlarged. Lungs demonstrate no focal infiltrates. There is no effusion or pneumothorax. 1. No acute pulmonary disease.                                                                                                                                                                                                                                                                                                                  \n",
              "1678                                                                                                                                                                                                                                                                                                                                                                                                                                                                                                                                                                               \n",
              "2068  The heart, pulmonary XXXX and mediastinum are within normal limits. There is no pleural effusion or pneumothorax. There is no focal air space opacity to suggest a pneumonia. There are degenerative changes of the spine. No acute cardiopulmonary disease.                                                                                                                                                                                                                                                                                                                 \n",
              "608   The lateral view is nondiagnostic due to patient positioning. Normal heart size and mediastinal contours. No focal airspace consolidation. No pneumothorax or large pleural effusion. Visualized osseous structures are unremarkable in appearance. 1. Technically limited exam. 2. No acute cardiopulmonary abnormalities. .                                                                                                                                                                                                                                                \n",
              "95    Cardiac and mediastinal contours are within normal limits. Prior granulomatous disease. The lungs are otherwise clear. Bony structures are intact. Negative chest x-XXXX.                                                                                                                                                                                                                                                                                                                                                                                                    \n",
              "584    No comparisons. Heart size is normal. Lungs are clear. Status post coronary artery bypass grafting.                                                                                                                                                                                                                                                                                                                                                                                                                                                                         \n",
              "3913  Lungs are clear. There is no pneumothorax or pleural effusion. Calcified left suprahilar XXXX. The heart and mediastinum are within normal limits. Bony structures are intact. No acute cardiopulmonary process.                                                                                                                                                                                                                                                                                                                                                             \n",
              "2017  The heart size and pulmonary vascularity appear within normal limits. The lungs are free of focal airspace disease. No pleural effusion or pneumothorax is seen. Degenerative changes are present in the spine. 1. No evidence of active disease.                                                                                                                                                                                                                                                                                                                            \n",
              "3894  The lungs are clear. The heart and pulmonary XXXX are normal. Pleural spaces are clear. Mediastinal contours are normal. There is stable lucency in the right mid clavicle dating back to XXXX. No acute cardiopulmonary disease                                                                                                                                                                                                                                                                                                                                             \n",
              "1286  The cardiomediastinal silhouette is within normal limits for appearance. No focal areas of pulmonary consolidation. No pneumothorax. No pleural effusion. Mild degenerative changes of the thoracic spine.. No acute, displaced rib fractures. 1. No acute intrathoracic abnormality.                                                                                                                                                                                                                                                                                        \n",
              "3690   Calcified granulomas. No suspicious appearing lung nodules identified. Well-expanded and clear lungs. Mediastinal contour within normal limits. No acute cardiopulmonary abnormality identified.                                                                                                                                                                                                                                                                                                                                                                            \n",
              "2035  Cardiac and mediastinal contours are within normal limits. Granulomatous calcifications and mediastinum. The lungs are clear. Bony structures are intact. No acute findings.                                                                                                                                                                                                                                                                                                                                                                                                 \n",
              "2058                                                                                                                                                                                                                                                                                                                                                                                                                                                                                                                                                                               \n",
              "2974   Heart size is at upper limits normal. Mediastinal silhouette otherwise and pulmonary vascularity is within normal limits. Left chest wall changes suggest prior thoracotomy. No pleural effusion or pneumothorax. No focal airspace consolidation.                                                                                                                                                                                                                                                                                                                          \n",
              "1851  The XXXX examination consists of frontal and lateral radiographs of the chest. There has been interval CABG. Surgical clips are again seen in the epigastric region. The cardiomediastinal contours are within normal limits. Pulmonary vascularity is within normal limits. No focal consolidation, pleural effusion, or pneumothorax identified. The visualized osseous structures are unremarkable. No evidence of acute cardiopulmonary process. Interval CABG.                                                                                                          \n",
              "3571  The heart and mediastinum are unremarkable. The lungs are clear without infiltrate. There is no effusion or pneumothorax. Degenerative disease of multiple midthoracic vertebral bodies. 1. No acute cardiopulmonary disease.                                                                                                                                                                                                                                                                                                                                                \n",
              "427   Heart size is normal. The lungs are clear. There are no focal air space consolidations. No pleural effusions or pneumothoraces. The hilar and mediastinal contours are normal. Normal pulmonary vascularity. Umbilical piercing. No acute abnormality. .                                                                                                                                                                                                                                                                                                                     \n",
              "486   The heart is normal in size. The aorta is tortuous and ectatic. The lungs are clear without focal airspace opacity, pleural effusion, or pneumothorax. The osseous structures are intact. No acute cardiopulmonary findings.                                                                                                                                                                                                                                                                                                                                                 \n",
              "1935  The lungs demonstrate low lung volumes but are clear bilaterally. Specifically, no evidence of focal consolidation, pneumothorax, or pleural effusion.. Mild streaky opacities in the left upper lobe on frontal projection are XXXX atelectatic or scar. Cardio mediastinal silhouette is unremarkable. Visualized osseous structures of the thorax are without acute abnormality. Low lung volumes without acute cardiopulmonary abnormality.                                                                                                                              \n",
              "\n",
              "         label  nb  \n",
              "563   abnormal  0   \n",
              "2818  abnormal  0   \n",
              "2862  abnormal  0   \n",
              "933   abnormal  0   \n",
              "1511  abnormal  0   \n",
              "99    abnormal  0   \n",
              "3860  abnormal  0   \n",
              "1945  abnormal  0   \n",
              "2235  abnormal  0   \n",
              "1299  abnormal  0   \n",
              "625   normal    1   \n",
              "1158  abnormal  0   \n",
              "3939  normal    1   \n",
              "1015  normal    1   \n",
              "2757  abnormal  0   \n",
              "3365  abnormal  0   \n",
              "3246  normal    1   \n",
              "2683  abnormal  0   \n",
              "616   abnormal  0   \n",
              "114   abnormal  0   \n",
              "983   normal    1   \n",
              "1686  normal    1   \n",
              "3231  normal    1   \n",
              "1268  abnormal  0   \n",
              "2731  abnormal  0   \n",
              "1640  normal    1   \n",
              "494   abnormal  0   \n",
              "570   normal    1   \n",
              "1678  normal    1   \n",
              "2068  abnormal  0   \n",
              "608   abnormal  0   \n",
              "95    abnormal  0   \n",
              "584   normal    1   \n",
              "3913  abnormal  0   \n",
              "2017  abnormal  0   \n",
              "3894  abnormal  0   \n",
              "1286  abnormal  0   \n",
              "3690  abnormal  0   \n",
              "2035  abnormal  0   \n",
              "2058  normal    1   \n",
              "2974  normal    1   \n",
              "1851  abnormal  0   \n",
              "3571  abnormal  0   \n",
              "427   abnormal  0   \n",
              "486   abnormal  0   \n",
              "1935  abnormal  0   "
            ],
            "text/html": [
              "\n",
              "  <div id=\"df-7cc05886-291e-49b2-b8c3-cd2dfc3ec6e2\">\n",
              "    <div class=\"colab-df-container\">\n",
              "      <div>\n",
              "<style scoped>\n",
              "    .dataframe tbody tr th:only-of-type {\n",
              "        vertical-align: middle;\n",
              "    }\n",
              "\n",
              "    .dataframe tbody tr th {\n",
              "        vertical-align: top;\n",
              "    }\n",
              "\n",
              "    .dataframe thead th {\n",
              "        text-align: right;\n",
              "    }\n",
              "</style>\n",
              "<table border=\"1\" class=\"dataframe\">\n",
              "  <thead>\n",
              "    <tr style=\"text-align: right;\">\n",
              "      <th></th>\n",
              "      <th>full-text</th>\n",
              "      <th>label</th>\n",
              "      <th>nb</th>\n",
              "    </tr>\n",
              "  </thead>\n",
              "  <tbody>\n",
              "    <tr>\n",
              "      <th>563</th>\n",
              "      <td>Normal heart size mediastinal contours. No focal airspace consolidation. No pneumothorax or pleural effusion. Stable, mild dextro curvature of the spine. No acute cardiopulmonary abnormality.</td>\n",
              "      <td>abnormal</td>\n",
              "      <td>0</td>\n",
              "    </tr>\n",
              "    <tr>\n",
              "      <th>2818</th>\n",
              "      <td>Cardiac and mediastinal contours are within normal limits. The lungs are clear. Mild prominence left hilar contour. Bony structures are intact. No acute preoperative findings.</td>\n",
              "      <td>abnormal</td>\n",
              "      <td>0</td>\n",
              "    </tr>\n",
              "    <tr>\n",
              "      <th>2862</th>\n",
              "      <td>There are low lung volumes. The lungs are clear. No focal airspace consolidation. No pleural effusion or pneumothorax. Heart size and mediastinal contour appear within normal limits. No acute abnormality demonstrated.</td>\n",
              "      <td>abnormal</td>\n",
              "      <td>0</td>\n",
              "    </tr>\n",
              "    <tr>\n",
              "      <th>933</th>\n",
              "      <td>Low lung volumes. No focal consolidation, effusion, or pneumothorax. Normal heart size. Bony thorax and soft tissues grossly unremarkable No radiographic evidence of acute cardiopulmonary disease.</td>\n",
              "      <td>abnormal</td>\n",
              "      <td>0</td>\n",
              "    </tr>\n",
              "    <tr>\n",
              "      <th>1511</th>\n",
              "      <td>Cardiomediastinal silhouette is within normal limits. No focal consolidation. No pneumothorax or large pleural effusion. No acute bony abnormalities. Contrast is seen within the bilateral kidneys, from prior examination. No acute cardiopulmonary abnormality. .</td>\n",
              "      <td>abnormal</td>\n",
              "      <td>0</td>\n",
              "    </tr>\n",
              "    <tr>\n",
              "      <th>99</th>\n",
              "      <td>Cardiomediastinal silhouettes are within normal limits. Lungs are hyperexpanded. Lungs are clear without focal consolidation, pneumothorax, or pleural effusion. Bony thorax is unremarkable. No acute cardiopulmonary abnormalities.</td>\n",
              "      <td>abnormal</td>\n",
              "      <td>0</td>\n",
              "    </tr>\n",
              "    <tr>\n",
              "      <th>3860</th>\n",
              "      <td>Tortuous thoracic aorta. Well-expanded and clear lungs. Mediastinal contour within normal limits. No acute cardiopulmonary abnormality identified.</td>\n",
              "      <td>abnormal</td>\n",
              "      <td>0</td>\n",
              "    </tr>\n",
              "    <tr>\n",
              "      <th>1945</th>\n",
              "      <td>Heart size upper limits normal. Mediastinal silhouette and pulmonary vascularity within normal limits. No edema, focal airspace consolidation, or pneumothorax. XXXX pleural effusion versus minimal pleural thickening bilaterally.</td>\n",
              "      <td>abnormal</td>\n",
              "      <td>0</td>\n",
              "    </tr>\n",
              "    <tr>\n",
              "      <th>2235</th>\n",
              "      <td>Low lung volumes with magnified appearance of the heart, XXXX normal heart size. Negative for consolidation, effusion, or pneumothorax. Bony thorax and soft tissues grossly unremarkable. Negative for acute cardiopulmonary abnormality.</td>\n",
              "      <td>abnormal</td>\n",
              "      <td>0</td>\n",
              "    </tr>\n",
              "    <tr>\n",
              "      <th>1299</th>\n",
              "      <td>The lungs are clear, and without focal airspace opacity. The cardiomediastinal silhouette is normal in size and contour, and stable. There is no pneumothorax or large pleural effusion. XXXX foreign body in the posterior soft tissues appear stable. No acute cardiopulmonary abnormality.</td>\n",
              "      <td>abnormal</td>\n",
              "      <td>0</td>\n",
              "    </tr>\n",
              "    <tr>\n",
              "      <th>625</th>\n",
              "      <td>Comparison XXXX, XXXX. Anticipated senescent changes. No acute airspace disease or CHF. Stable mediastinal contour. No XXXX acute abnormalities since the previous examination..</td>\n",
              "      <td>normal</td>\n",
              "      <td>1</td>\n",
              "    </tr>\n",
              "    <tr>\n",
              "      <th>1158</th>\n",
              "      <td>Normal heart size. Mild unfolding of the thoracic aorta. No focal airspace opacity. No pleural effusion or pneumothorax. Visualized osseous structures are unremarkable in appearance. No acute cardiopulmonary abnormalities.</td>\n",
              "      <td>abnormal</td>\n",
              "      <td>0</td>\n",
              "    </tr>\n",
              "    <tr>\n",
              "      <th>3939</th>\n",
              "      <td>The XXXX examination consists of frontal and lateral radiographs of the chest. The cardiomediastinal contours are within normal limits. Pulmonary vascularity is within normal limits. No focal consolidation, pleural effusion, or pneumothorax identified. Oval sclerotic density projecting over the inferior right glenoid may represent synovial osteochondromatosis or cortical XXXX XXXX. This is unchanged 31 17 XXXX. The remaining osseous structures and visualized upper abdomen are unremarkable in appearance. No evidence of acute cardiopulmonary process.</td>\n",
              "      <td>normal</td>\n",
              "      <td>1</td>\n",
              "    </tr>\n",
              "    <tr>\n",
              "      <th>1015</th>\n",
              "      <td></td>\n",
              "      <td>normal</td>\n",
              "      <td>1</td>\n",
              "    </tr>\n",
              "    <tr>\n",
              "      <th>2757</th>\n",
              "      <td>The heart size is upper limits of normal. The pulmonary XXXX and mediastinum are within normal limits. There is no pleural effusion or pneumothorax. There is no focal air space opacity to suggest a pneumonia. There are minimal degenerative changes of the spine. No acute cardiopulmonary disease.</td>\n",
              "      <td>abnormal</td>\n",
              "      <td>0</td>\n",
              "    </tr>\n",
              "    <tr>\n",
              "      <th>3365</th>\n",
              "      <td>The lungs are clear. The heart and pulmonary XXXX are normal. Pleural spaces are clear. The mediastinal contours are normal. There is calcification of the thoracic aorta. No acute cardiopulmonary disease. No evidence of pneumonia.</td>\n",
              "      <td>abnormal</td>\n",
              "      <td>0</td>\n",
              "    </tr>\n",
              "    <tr>\n",
              "      <th>3246</th>\n",
              "      <td>Cardiomediastinal silhouette is normal. Pulmonary vasculature and XXXX are normal. No consolidation, pneumothorax or large pleural effusion. Postsurgical changes of the cervical spine are present. No acute cardiopulmonary disease.</td>\n",
              "      <td>normal</td>\n",
              "      <td>1</td>\n",
              "    </tr>\n",
              "    <tr>\n",
              "      <th>2683</th>\n",
              "      <td>No The cardiomediastinal silhouette and pulmonary vasculature are within normal limits. There is no pneumothorax or pleural effusion. There are no focal areas of consolidation. There are T-spine osteophytes. No acute cardiopulmonary abnormality.</td>\n",
              "      <td>abnormal</td>\n",
              "      <td>0</td>\n",
              "    </tr>\n",
              "    <tr>\n",
              "      <th>616</th>\n",
              "      <td>Heart size is within normal limits. Aorta is tortuous. Remainder of the cardiomediastinal silhouette is normal. Lungs are clear bilaterally without pleural effusion or pneumothorax. No bony abnormalities. No active disease.</td>\n",
              "      <td>abnormal</td>\n",
              "      <td>0</td>\n",
              "    </tr>\n",
              "    <tr>\n",
              "      <th>114</th>\n",
              "      <td>Trachea is midline. The cardiomediastinal silhouette is normal. The lungs are clear without evidence of acute infiltrate or effusion. There is no evidence of tuberculous disease. There is no pneumothorax. There is dextroscoliosis of the lower thoracic spine. No acute cardiopulmonary abnormalities.</td>\n",
              "      <td>abnormal</td>\n",
              "      <td>0</td>\n",
              "    </tr>\n",
              "    <tr>\n",
              "      <th>983</th>\n",
              "      <td>The cardiac silhouette and pulmonary vascularity are normal. The lungs are clear. There is no evidence of pleural effusion. Postoperative changes are noted in the mediastinum and lower cervical spine. No evidence of acute cardiopulmonary disease.</td>\n",
              "      <td>normal</td>\n",
              "      <td>1</td>\n",
              "    </tr>\n",
              "    <tr>\n",
              "      <th>1686</th>\n",
              "      <td></td>\n",
              "      <td>normal</td>\n",
              "      <td>1</td>\n",
              "    </tr>\n",
              "    <tr>\n",
              "      <th>3231</th>\n",
              "      <td>Compared with prior examination mildly improved inspirational XXXX. Lung parenchyma is not clear. No acute airspace disease, large pleural effusions or pulmonary edema. No XXXX of acute cardiopulmonary disease.</td>\n",
              "      <td>normal</td>\n",
              "      <td>1</td>\n",
              "    </tr>\n",
              "    <tr>\n",
              "      <th>1268</th>\n",
              "      <td>The cardiomediastinal silhouette and pulmonary vasculature are within normal limits in size. The lungs are clear of focal airspace disease, pneumothorax, or pleural effusion. There are no acute bony findings. Cardiac defibrillator leads are stable. No acute cardiopulmonary findings. .</td>\n",
              "      <td>abnormal</td>\n",
              "      <td>0</td>\n",
              "    </tr>\n",
              "    <tr>\n",
              "      <th>2731</th>\n",
              "      <td>Normal heart size and normal mediastinal contours. Normal pulmonary vasculature. No XXXX of pleural effusions. No infiltrates. Moderate scoliosis in the thoracolumbar spine. Normal X-XXXX of chest.</td>\n",
              "      <td>abnormal</td>\n",
              "      <td>0</td>\n",
              "    </tr>\n",
              "    <tr>\n",
              "      <th>1640</th>\n",
              "      <td></td>\n",
              "      <td>normal</td>\n",
              "      <td>1</td>\n",
              "    </tr>\n",
              "    <tr>\n",
              "      <th>494</th>\n",
              "      <td>The heart is normal in size and contour. There is no mediastinal widening. Low lung volumes. No focal airspace disease. No large pleural effusion or pneumothorax. The XXXX are intact. No acute cardiopulmonary abnormalities.</td>\n",
              "      <td>abnormal</td>\n",
              "      <td>0</td>\n",
              "    </tr>\n",
              "    <tr>\n",
              "      <th>570</th>\n",
              "      <td>Single view of chest was obtained in AP projection. Limited study secondary to body habitus. The cardiomediastinal silhouette is not enlarged. Lungs demonstrate no focal infiltrates. There is no effusion or pneumothorax. 1. No acute pulmonary disease.</td>\n",
              "      <td>normal</td>\n",
              "      <td>1</td>\n",
              "    </tr>\n",
              "    <tr>\n",
              "      <th>1678</th>\n",
              "      <td></td>\n",
              "      <td>normal</td>\n",
              "      <td>1</td>\n",
              "    </tr>\n",
              "    <tr>\n",
              "      <th>2068</th>\n",
              "      <td>The heart, pulmonary XXXX and mediastinum are within normal limits. There is no pleural effusion or pneumothorax. There is no focal air space opacity to suggest a pneumonia. There are degenerative changes of the spine. No acute cardiopulmonary disease.</td>\n",
              "      <td>abnormal</td>\n",
              "      <td>0</td>\n",
              "    </tr>\n",
              "    <tr>\n",
              "      <th>608</th>\n",
              "      <td>The lateral view is nondiagnostic due to patient positioning. Normal heart size and mediastinal contours. No focal airspace consolidation. No pneumothorax or large pleural effusion. Visualized osseous structures are unremarkable in appearance. 1. Technically limited exam. 2. No acute cardiopulmonary abnormalities. .</td>\n",
              "      <td>abnormal</td>\n",
              "      <td>0</td>\n",
              "    </tr>\n",
              "    <tr>\n",
              "      <th>95</th>\n",
              "      <td>Cardiac and mediastinal contours are within normal limits. Prior granulomatous disease. The lungs are otherwise clear. Bony structures are intact. Negative chest x-XXXX.</td>\n",
              "      <td>abnormal</td>\n",
              "      <td>0</td>\n",
              "    </tr>\n",
              "    <tr>\n",
              "      <th>584</th>\n",
              "      <td>No comparisons. Heart size is normal. Lungs are clear. Status post coronary artery bypass grafting.</td>\n",
              "      <td>normal</td>\n",
              "      <td>1</td>\n",
              "    </tr>\n",
              "    <tr>\n",
              "      <th>3913</th>\n",
              "      <td>Lungs are clear. There is no pneumothorax or pleural effusion. Calcified left suprahilar XXXX. The heart and mediastinum are within normal limits. Bony structures are intact. No acute cardiopulmonary process.</td>\n",
              "      <td>abnormal</td>\n",
              "      <td>0</td>\n",
              "    </tr>\n",
              "    <tr>\n",
              "      <th>2017</th>\n",
              "      <td>The heart size and pulmonary vascularity appear within normal limits. The lungs are free of focal airspace disease. No pleural effusion or pneumothorax is seen. Degenerative changes are present in the spine. 1. No evidence of active disease.</td>\n",
              "      <td>abnormal</td>\n",
              "      <td>0</td>\n",
              "    </tr>\n",
              "    <tr>\n",
              "      <th>3894</th>\n",
              "      <td>The lungs are clear. The heart and pulmonary XXXX are normal. Pleural spaces are clear. Mediastinal contours are normal. There is stable lucency in the right mid clavicle dating back to XXXX. No acute cardiopulmonary disease</td>\n",
              "      <td>abnormal</td>\n",
              "      <td>0</td>\n",
              "    </tr>\n",
              "    <tr>\n",
              "      <th>1286</th>\n",
              "      <td>The cardiomediastinal silhouette is within normal limits for appearance. No focal areas of pulmonary consolidation. No pneumothorax. No pleural effusion. Mild degenerative changes of the thoracic spine.. No acute, displaced rib fractures. 1. No acute intrathoracic abnormality.</td>\n",
              "      <td>abnormal</td>\n",
              "      <td>0</td>\n",
              "    </tr>\n",
              "    <tr>\n",
              "      <th>3690</th>\n",
              "      <td>Calcified granulomas. No suspicious appearing lung nodules identified. Well-expanded and clear lungs. Mediastinal contour within normal limits. No acute cardiopulmonary abnormality identified.</td>\n",
              "      <td>abnormal</td>\n",
              "      <td>0</td>\n",
              "    </tr>\n",
              "    <tr>\n",
              "      <th>2035</th>\n",
              "      <td>Cardiac and mediastinal contours are within normal limits. Granulomatous calcifications and mediastinum. The lungs are clear. Bony structures are intact. No acute findings.</td>\n",
              "      <td>abnormal</td>\n",
              "      <td>0</td>\n",
              "    </tr>\n",
              "    <tr>\n",
              "      <th>2058</th>\n",
              "      <td></td>\n",
              "      <td>normal</td>\n",
              "      <td>1</td>\n",
              "    </tr>\n",
              "    <tr>\n",
              "      <th>2974</th>\n",
              "      <td>Heart size is at upper limits normal. Mediastinal silhouette otherwise and pulmonary vascularity is within normal limits. Left chest wall changes suggest prior thoracotomy. No pleural effusion or pneumothorax. No focal airspace consolidation.</td>\n",
              "      <td>normal</td>\n",
              "      <td>1</td>\n",
              "    </tr>\n",
              "    <tr>\n",
              "      <th>1851</th>\n",
              "      <td>The XXXX examination consists of frontal and lateral radiographs of the chest. There has been interval CABG. Surgical clips are again seen in the epigastric region. The cardiomediastinal contours are within normal limits. Pulmonary vascularity is within normal limits. No focal consolidation, pleural effusion, or pneumothorax identified. The visualized osseous structures are unremarkable. No evidence of acute cardiopulmonary process. Interval CABG.</td>\n",
              "      <td>abnormal</td>\n",
              "      <td>0</td>\n",
              "    </tr>\n",
              "    <tr>\n",
              "      <th>3571</th>\n",
              "      <td>The heart and mediastinum are unremarkable. The lungs are clear without infiltrate. There is no effusion or pneumothorax. Degenerative disease of multiple midthoracic vertebral bodies. 1. No acute cardiopulmonary disease.</td>\n",
              "      <td>abnormal</td>\n",
              "      <td>0</td>\n",
              "    </tr>\n",
              "    <tr>\n",
              "      <th>427</th>\n",
              "      <td>Heart size is normal. The lungs are clear. There are no focal air space consolidations. No pleural effusions or pneumothoraces. The hilar and mediastinal contours are normal. Normal pulmonary vascularity. Umbilical piercing. No acute abnormality. .</td>\n",
              "      <td>abnormal</td>\n",
              "      <td>0</td>\n",
              "    </tr>\n",
              "    <tr>\n",
              "      <th>486</th>\n",
              "      <td>The heart is normal in size. The aorta is tortuous and ectatic. The lungs are clear without focal airspace opacity, pleural effusion, or pneumothorax. The osseous structures are intact. No acute cardiopulmonary findings.</td>\n",
              "      <td>abnormal</td>\n",
              "      <td>0</td>\n",
              "    </tr>\n",
              "    <tr>\n",
              "      <th>1935</th>\n",
              "      <td>The lungs demonstrate low lung volumes but are clear bilaterally. Specifically, no evidence of focal consolidation, pneumothorax, or pleural effusion.. Mild streaky opacities in the left upper lobe on frontal projection are XXXX atelectatic or scar. Cardio mediastinal silhouette is unremarkable. Visualized osseous structures of the thorax are without acute abnormality. Low lung volumes without acute cardiopulmonary abnormality.</td>\n",
              "      <td>abnormal</td>\n",
              "      <td>0</td>\n",
              "    </tr>\n",
              "  </tbody>\n",
              "</table>\n",
              "</div>\n",
              "      <button class=\"colab-df-convert\" onclick=\"convertToInteractive('df-7cc05886-291e-49b2-b8c3-cd2dfc3ec6e2')\"\n",
              "              title=\"Convert this dataframe to an interactive table.\"\n",
              "              style=\"display:none;\">\n",
              "        \n",
              "  <svg xmlns=\"http://www.w3.org/2000/svg\" height=\"24px\"viewBox=\"0 0 24 24\"\n",
              "       width=\"24px\">\n",
              "    <path d=\"M0 0h24v24H0V0z\" fill=\"none\"/>\n",
              "    <path d=\"M18.56 5.44l.94 2.06.94-2.06 2.06-.94-2.06-.94-.94-2.06-.94 2.06-2.06.94zm-11 1L8.5 8.5l.94-2.06 2.06-.94-2.06-.94L8.5 2.5l-.94 2.06-2.06.94zm10 10l.94 2.06.94-2.06 2.06-.94-2.06-.94-.94-2.06-.94 2.06-2.06.94z\"/><path d=\"M17.41 7.96l-1.37-1.37c-.4-.4-.92-.59-1.43-.59-.52 0-1.04.2-1.43.59L10.3 9.45l-7.72 7.72c-.78.78-.78 2.05 0 2.83L4 21.41c.39.39.9.59 1.41.59.51 0 1.02-.2 1.41-.59l7.78-7.78 2.81-2.81c.8-.78.8-2.07 0-2.86zM5.41 20L4 18.59l7.72-7.72 1.47 1.35L5.41 20z\"/>\n",
              "  </svg>\n",
              "      </button>\n",
              "      \n",
              "  <style>\n",
              "    .colab-df-container {\n",
              "      display:flex;\n",
              "      flex-wrap:wrap;\n",
              "      gap: 12px;\n",
              "    }\n",
              "\n",
              "    .colab-df-convert {\n",
              "      background-color: #E8F0FE;\n",
              "      border: none;\n",
              "      border-radius: 50%;\n",
              "      cursor: pointer;\n",
              "      display: none;\n",
              "      fill: #1967D2;\n",
              "      height: 32px;\n",
              "      padding: 0 0 0 0;\n",
              "      width: 32px;\n",
              "    }\n",
              "\n",
              "    .colab-df-convert:hover {\n",
              "      background-color: #E2EBFA;\n",
              "      box-shadow: 0px 1px 2px rgba(60, 64, 67, 0.3), 0px 1px 3px 1px rgba(60, 64, 67, 0.15);\n",
              "      fill: #174EA6;\n",
              "    }\n",
              "\n",
              "    [theme=dark] .colab-df-convert {\n",
              "      background-color: #3B4455;\n",
              "      fill: #D2E3FC;\n",
              "    }\n",
              "\n",
              "    [theme=dark] .colab-df-convert:hover {\n",
              "      background-color: #434B5C;\n",
              "      box-shadow: 0px 1px 3px 1px rgba(0, 0, 0, 0.15);\n",
              "      filter: drop-shadow(0px 1px 2px rgba(0, 0, 0, 0.3));\n",
              "      fill: #FFFFFF;\n",
              "    }\n",
              "  </style>\n",
              "\n",
              "      <script>\n",
              "        const buttonEl =\n",
              "          document.querySelector('#df-7cc05886-291e-49b2-b8c3-cd2dfc3ec6e2 button.colab-df-convert');\n",
              "        buttonEl.style.display =\n",
              "          google.colab.kernel.accessAllowed ? 'block' : 'none';\n",
              "\n",
              "        async function convertToInteractive(key) {\n",
              "          const element = document.querySelector('#df-7cc05886-291e-49b2-b8c3-cd2dfc3ec6e2');\n",
              "          const dataTable =\n",
              "            await google.colab.kernel.invokeFunction('convertToInteractive',\n",
              "                                                     [key], {});\n",
              "          if (!dataTable) return;\n",
              "\n",
              "          const docLinkHtml = 'Like what you see? Visit the ' +\n",
              "            '<a target=\"_blank\" href=https://colab.research.google.com/notebooks/data_table.ipynb>data table notebook</a>'\n",
              "            + ' to learn more about interactive tables.';\n",
              "          element.innerHTML = '';\n",
              "          dataTable['output_type'] = 'display_data';\n",
              "          await google.colab.output.renderOutput(dataTable, element);\n",
              "          const docLink = document.createElement('div');\n",
              "          docLink.innerHTML = docLinkHtml;\n",
              "          element.appendChild(docLink);\n",
              "        }\n",
              "      </script>\n",
              "    </div>\n",
              "  </div>\n",
              "  "
            ]
          },
          "metadata": {},
          "execution_count": 42
        }
      ]
    },
    {
      "cell_type": "markdown",
      "metadata": {
        "id": "Am8WBe6_dl5q"
      },
      "source": [
        "# References\n",
        "\n",
        "[1] Demner-Fuhshman D, Kohli MD, Rosenman MB, Shooshan SE, Rodriguez L, Antani S, Thoma GR, McDonald CJ. \"Preparing a collection of radiology examinations for distribution and retrieval\". J. Am. Med. Inform. Assoc. 2016. 23(2). 304-310. https://doi.org/10.1093/jamia/ocv080\n",
        "\n",
        "[2] Wiggins WF, Kitamura F, Santos I, Prevedello L. \"Natural Language Processing of Radiology Text Reports: Interactive Text Classification\". Radiol. Artif. Intell. 2021. 3(4). https://doi.org/10.1148/ryai.2021210035\n",
        "\n",
        "#Further Reading\n",
        "Jurafsky D, Martin JH. \"Speech and Language Processing. An Introduction to Natural Language Processing, Computational Linguistics, and Speech Recognition\". Draft. 3ed. September 21, 2021.\n",
        "\n",
        "Pons E, Braun LM M, Hunink MG Myriam, Kors JA. \"Natural Language Processing in Radiology: A Systematic Review\". Radiology. 2016. 279(2). 329-343.\n",
        "\n",
        "Sorin V, Barash Y, Konen E, Klang E. \"Deep Learning for Natural Language Processing in Radiology - Fundamentals and a Systematic Review\". J. Am. Coll. Radiol. 2020. 17(5). 639-648.\n",
        "\n",
        "Mozayan A, Fabbri AR, Maneevese M, Tocino I, Chheang Sophie. \"Practical Guide to Natural Language Processing for Radiology\". Radiographics. 2021. 41(5). 1446-1453."
      ]
    },
    {
      "cell_type": "markdown",
      "source": [
        "#Answers to Regex Practice Problem\n"
      ],
      "metadata": {
        "id": "TGeURYZh6Tuo"
      }
    },
    {
      "cell_type": "code",
      "source": [
        "#@title Question 1: Find and remove all punctuation within the text block\n",
        "\n",
        "regex_pattern = '[^\\w ]' #Match all characters that are NOT (\"^\") words (\"\\w\") or spaces (\" \")\n",
        "\n",
        "text_block = \"\"\"\n",
        "There is no significant end-vessel ischemic small vessel disease. \n",
        "There is no acute infarct seen. \n",
        "No intracranial hemorrhage is recognized.\n",
        "\"\"\"\n",
        "out_text = re.sub(regex_pattern, ' ', text_block)\n",
        "\n",
        "print(out_text)"
      ],
      "metadata": {
        "colab": {
          "base_uri": "https://localhost:8080/"
        },
        "id": "1w0EfYDM6SIt",
        "outputId": "bcb88283-c4c0-4395-95a7-475af4e16f59"
      },
      "execution_count": 43,
      "outputs": [
        {
          "output_type": "stream",
          "name": "stdout",
          "text": [
            " There is no significant end vessel ischemic small vessel disease   There is no acute infarct seen   No intracranial hemorrhage is recognized  \n"
          ]
        }
      ]
    },
    {
      "cell_type": "code",
      "source": [
        "#@title Question 2: Extract full impression from the text block\n",
        "\n",
        "regex_pattern = \"IMPRESSION\\n((.|\\n)*)\" #Match to \"IMPRESSION\\n\" and then use a match capturing group (\"(...)\") that matches\n",
        "                                        #at least one (\"*\") of any character (\".\") or new line (\"\\n\") from the \n",
        "                                        #\"IMPRESSION\\n\" until the end of the string.\n",
        "\n",
        "text_block = \"\"\"\n",
        "FINDINGS:\n",
        "FLUID / INTRA-ARTICULAR BODIES: There is a small knee effusion and a small popliteal cyst present. There is circumferential soft tissue edema and swelling at the level the knee most prominent posteriorly.\n",
        "MENISCI:\n",
        "Medial: The medial meniscus is normal.\n",
        "Lateral: The lateral meniscus is normal. \n",
        "\n",
        "IMPRESSION\n",
        "1. There are extensive bone contusions of the distal femur and proximal tibia. There is a nondisplaced Salter II fracture through the growth plate of the distal femur. There is a subperiosteal hematoma with displacement of the periosteum along the posterolateral aspect of the distal femoral metaphysis. \n",
        "2. Extensive bone contusion of the proximal tibia with a small incomplete nondisplaced transverse fracture line noted along the posterior margin of the proximal tibial metaphysis.\n",
        "\"\"\"\n",
        "\n",
        "m = re.search(regex_pattern,text_block)\n",
        "for group in m.groups():\n",
        "  print(group)\n",
        "  print()\n"
      ],
      "metadata": {
        "colab": {
          "base_uri": "https://localhost:8080/"
        },
        "id": "G-eK_Cz961sV",
        "outputId": "72a7526a-fb4d-4c82-ed51-c36bfdea9878"
      },
      "execution_count": 44,
      "outputs": [
        {
          "output_type": "stream",
          "name": "stdout",
          "text": [
            "1. There are extensive bone contusions of the distal femur and proximal tibia. There is a nondisplaced Salter II fracture through the growth plate of the distal femur. There is a subperiosteal hematoma with displacement of the periosteum along the posterolateral aspect of the distal femoral metaphysis. \n",
            "2. Extensive bone contusion of the proximal tibia with a small incomplete nondisplaced transverse fracture line noted along the posterior margin of the proximal tibial metaphysis.\n",
            "\n",
            "\n",
            "\n",
            "\n",
            "\n"
          ]
        }
      ]
    }
  ]
}
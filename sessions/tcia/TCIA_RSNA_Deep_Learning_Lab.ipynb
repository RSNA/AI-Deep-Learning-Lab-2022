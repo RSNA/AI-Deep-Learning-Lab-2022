{
  "nbformat": 4,
  "nbformat_minor": 0,
  "metadata": {
    "colab": {
      "provenance": [],
      "collapsed_sections": [
        "7YGlC_ajggC8",
        "nj6P7YCmll4S",
        "aZvpm8BiUAnx",
        "elX2coKjUK4R",
        "rOVuIo2Xqozd",
        "BJEBAyTyqcU5",
        "YMIPh4vzqfN5"
      ],
      "include_colab_link": true
    },
    "kernelspec": {
      "name": "python3",
      "display_name": "Python 3"
    },
    "language_info": {
      "name": "python"
    }
  },
  "cells": [
    {
      "cell_type": "markdown",
      "metadata": {
        "id": "view-in-github",
        "colab_type": "text"
      },
      "source": [
        "<a href=\"https://colab.research.google.com/github/kirbyju/AI-Deep-Learning-Lab-2022/blob/tcia/sessions/tcia/TCIA_RSNA_Deep_Learning_Lab.ipynb\" target=\"_parent\"><img src=\"https://colab.research.google.com/assets/colab-badge.svg\" alt=\"Open In Colab\"/></a>"
      ]
    },
    {
      "cell_type": "markdown",
      "source": [
        "# Course Description\n",
        "\n",
        "Access to large, high quality data is essential for researchers to understand disease and precision medicine pathways, especially in cancer. However HIPAA constraints make sharing medical images outside an individual institution a complex process. [The Cancer Imaging Archive (TCIA)](https://www.cancerimagingarchive.net/) TCIA is a public service funded by the National Cancer Institute which addresses this challenge by providing hosting and de-identification services to take major burdens of data sharing off researchers. \n",
        "\n",
        "TCIA has published over 175 unique data collections containing more than 60 million images. Recognizing that images alone are not enough to conduct meaningful research, most collections are linked to rich supporting data including patient outcomes, treatment information, genomic / proteomic analyses, and expert image analyses (segmentations, annotations, and radiomic / radiogenomic features). **In this course we will address basic use cases for identifying TCIA datasets of interest and downloading them via Jupyter Notebooks.** \n",
        "\n",
        "# Learning Objectives\n",
        "\n",
        "* Learn how TCIA makes data sharing easier for researchers, and hear a summary of existing datsets that are freely available for download\n",
        "* Practice utilizing TCIA for data exploration, cohort definition, and downloading of data\n",
        "* Learn how to access public and restricted access datasets using TCIA's REST APIs and other command line tools via Google Colab"
      ],
      "metadata": {
        "id": "KmXfYFZtja2F"
      }
    },
    {
      "cell_type": "markdown",
      "source": [
        "# TCIA Overview\n",
        "We'll begin with a very brief slide presentation to provide an overview of The Cancer Imaging Archive."
      ],
      "metadata": {
        "id": "MyQie-nW8zu1"
      }
    },
    {
      "cell_type": "markdown",
      "source": [
        "# TCIA Notebooks\n",
        "In this course we will summarize the available notebooks at https://github.com/kirbyju/TCIA_Notebooks and walk through these three in detail:\n",
        "\n",
        "1.  [TCIA_Linux_Data_Retriever_App.ipynb](https://github.com/kirbyju/TCIA_Notebooks/blob/main/TCIA_Linux_Data_Retriever_App.ipynb) - A tutorial on how to install the [NBIA Data Retriever command-line Data Retriever utility on Linux](https://wiki.cancerimagingarchive.net/x/2QKPBQ) and use it to download TCIA datasets\n",
        "2.  [TCIA_REST_API_Queries.ipynb](https://github.com/kirbyju/TCIA_Notebooks/blob/main/TCIA_REST_API_Queries.ipynb) - A Python tutorial on how to use TCIA's REST API to **query** datasets\n",
        "3.  [TCIA_REST_API_Downloads.ipynb](https://github.com/kirbyju/TCIA_Notebooks/blob/main/TCIA_REST_API_Downloads.ipynb) - A Python tutorial on how to use TCIA's REST API to **download** datasets"
      ],
      "metadata": {
        "id": "8IoM-Mt_85_Z"
      }
    },
    {
      "cell_type": "markdown",
      "source": [
        "# Additional Resources\n",
        "The following pages on TCIA may be of special interest to deep learning researchers:\n",
        "\n",
        "1. [Finding Annotated Data for AI/ML on TCIA](https://wiki.cancerimagingarchive.net/x/TAGJAw) provides basic guidance for finding datasets that could be useful for deep learning tasks.\n",
        "2. [Challenge Competitions using TCIA data](https://wiki.cancerimagingarchive.net/x/nYIaAQ) can be useful for benchmarking your model's performance.\n",
        "3. [ACR Data Science Institute's Define AI Directory](https://www.acrdsi.org/DSI-Services/Define-AI) links clinically relevant AI use-cases to TCIA datasets that can be used to address them."
      ],
      "metadata": {
        "id": "rpt0pjo2s_Ho"
      }
    },
    {
      "cell_type": "markdown",
      "source": [
        "# Acknowledgements\n",
        "TCIA is funded by the [Cancer Imaging Program (CIP)](https://imaging.cancer.gov/), a part of the United States [National Cancer Institute (NCI)](https://www.cancer.gov/).  It is managed by the [Frederick National Laboratory for Cancer Research (FNLCR)](https://frederick.cancer.gov/) and hosted by the [University of Arkansas for Medical Sciences (UAMS)](https://www.uams.edu/)\n",
        "\n",
        "This notebook was created by [Justin Kirby](https://www.linkedin.com/in/justinkirby82/). If you leverage this notebook or any TCIA datasets in your work, please be sure to comply with the [TCIA Data Usage Policy](https://wiki.cancerimagingarchive.net/x/c4hF). In particular, make sure to cite the DOI(s) for the specific TCIA datasets you used in addition to the following paper!\n",
        "\n",
        "## TCIA Citation\n",
        "\n",
        "Clark, K., Vendt, B., Smith, K., Freymann, J., Kirby, J., Koppel, P., Moore, S., Phillips, S., Maffitt, D., Pringle, M., Tarbox, L., & Prior, F. (2013). The Cancer Imaging Archive (TCIA): Maintaining and Operating a Public Information Repository. Journal of Digital Imaging, 26(6), 1045–1057. https://doi.org/10.1007/s10278-013-9622-7"
      ],
      "metadata": {
        "id": "LMnX2nBD9cEH"
      }
    }
  ]
}
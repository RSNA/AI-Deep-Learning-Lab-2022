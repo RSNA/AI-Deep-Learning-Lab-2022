{
  "nbformat": 4,
  "nbformat_minor": 0,
  "metadata": {
    "colab": {
      "provenance": [],
      "collapsed_sections": [
        "7YGlC_ajggC8",
        "nj6P7YCmll4S",
        "aZvpm8BiUAnx",
        "elX2coKjUK4R",
        "rOVuIo2Xqozd",
        "BJEBAyTyqcU5",
        "YMIPh4vzqfN5"
      ],
      "include_colab_link": true
    },
    "kernelspec": {
      "name": "python3",
      "display_name": "Python 3"
    },
    "language_info": {
      "name": "python"
    }
  },
  "cells": [
    {
      "cell_type": "markdown",
      "metadata": {
        "id": "view-in-github",
        "colab_type": "text"
      },
      "source": [
        "<a href=\"https://colab.research.google.com/github/kirbyju/AI-Deep-Learning-Lab-2022/blob/tcia/TCIA_RSNA_Deep_Learning_Lab.ipynb\" target=\"_parent\"><img src=\"https://colab.research.google.com/assets/colab-badge.svg\" alt=\"Open In Colab\"/></a>"
      ]
    },
    {
      "cell_type": "markdown",
      "source": [
        "# Course Description\n",
        "\n",
        "Access to large, high quality data is essential for researchers to understand disease and precision medicine pathways, especially in cancer. However HIPAA constraints make sharing medical images outside an individual institution a complex process. [The Cancer Imaging Archive (TCIA)](https://www.cancerimagingarchive.net/) TCIA is a public service funded by the National Cancer Institute which addresses this challenge by providing hosting and de-identification services to take major burdens of data sharing off researchers. \n",
        "\n",
        "TCIA has published over 175 unique data collections containing more than 60 million images. Recognizing that images alone are not enough to conduct meaningful research, most collections are linked to rich supporting data including patient outcomes, treatment information, genomic / proteomic analyses, and expert image analyses (segmentations, annotations, and radiomic / radiogenomic features). **In this course we will address basic use cases for identifying TCIA datasets of interest and downloading them via Jupyter Notebooks.** \n",
        "\n",
        "# Learning Objectives\n",
        "\n",
        "* Learn how TCIA makes data sharing easier for researchers, and hear a summary of existing datsets that are freely available for download\n",
        "* Practice utilizing TCIA for data exploration, cohort definition, and downloading of data\n",
        "* Learn how to access public and restricted access datasets using TCIA's REST APIs and other command line tools via Google Colab"
      ],
      "metadata": {
        "id": "KmXfYFZtja2F"
      }
    },
    {
      "cell_type": "markdown",
      "source": [
        "# TCIA Overview\n",
        "We'll begin with a very brief slide presentation to provide an overview of The Cancer Imaging Archive."
      ],
      "metadata": {
        "id": "MyQie-nW8zu1"
      }
    },
    {
      "cell_type": "markdown",
      "source": [
        "# TCIA Notebooks\n",
        "In this course we will summarize the available notebooks at https://github.com/kirbyju/TCIA_Notebooks and walk through these three in detail:\n",
        "\n",
        "1.  [TCIA_Linux_Data_Retriever_App.ipynb](https://github.com/kirbyju/TCIA_Notebooks/blob/main/TCIA_Linux_Data_Retriever_App.ipynb) - A tutorial on how to install the [NBIA Data Retriever command-line Data Retriever utility on Linux](https://wiki.cancerimagingarchive.net/x/2QKPBQ) and use it to download TCIA datasets\n",
        "2.  [TCIA_REST_API_Queries.ipynb](https://github.com/kirbyju/TCIA_Notebooks/blob/main/TCIA_REST_API_Queries.ipynb) - A Python tutorial on how to use TCIA's REST API to **query** datasets\n",
        "3.  [TCIA_REST_API_Downloads.ipynb](https://github.com/kirbyju/TCIA_Notebooks/blob/main/TCIA_REST_API_Downloads.ipynb) - A Python tutorial on how to use TCIA's REST API to **download** datasets"
      ],
      "metadata": {
        "id": "8IoM-Mt_85_Z"
      }
    },
    {
      "cell_type": "markdown",
      "source": [
        "# Quiz Questions\n",
        "\n",
        "### 1. Let's say you're a researcher interested in kidney cancer who wants to train a model that can predict proteomic subtypes from radiology images. Can you identify a kidney dataset that also has proteomics on the [Browse Collections](https://www.cancerimagingarchive.net/collections/) page? Once you've done so, click on the collection and find the link to download the manifest.  From there, can you demonstrate how to download the full collection using the manifest file with NBIA Data Retriever?\n",
        "\n",
        "**Note:** Since this is just for learning purposes, use the code we leveraged previously to shorten the manifest file to only download a few scans so it doesn't take as long to run."
      ],
      "metadata": {
        "id": "-cxN1l-DZi8I"
      }
    },
    {
      "cell_type": "code",
      "source": [],
      "metadata": {
        "id": "AbOQ-8jNZi8J"
      },
      "execution_count": null,
      "outputs": []
    },
    {
      "cell_type": "markdown",
      "source": [
        "### 2. Let's say you are a researcher who wants to train a model to do tumor detection on mammograms.  Can you run an API query to find all mammogram data (modality = MG) and then figure out what the distribution of manufacturers are?  Once you've done that, can you download the mammograms for whichever manufacturer had the most data available? \n",
        "\n",
        "(**Note:** For the download, use the function that only downloads the first 3 scans so it completes quickly.)\n"
      ],
      "metadata": {
        "id": "6edF7q1kZi8J"
      }
    },
    {
      "cell_type": "code",
      "source": [],
      "metadata": {
        "id": "Ang-qDtoZuEl"
      },
      "execution_count": null,
      "outputs": []
    },
    {
      "cell_type": "markdown",
      "source": [
        "### 3. Let's say that you'd like to create a Shared Cart to includes a specific set of scans to share with others.  Use https://nbia.cancerimagingarchive.net to create a small \"[Shared Cart](https://wiki.cancerimagingarchive.net/display/NBIA/TCIA+Radiology+Portal+User+Guide#TCIARadiologyPortalUserGuide-SharingDatainYourCart)\" with scans of your choosing and then demonstrate how to download it via the API.  \n",
        "\n",
        "**Note:** Keep your cart small (e.g. 3-5 scans) so the download completes quickly, or if you created a large cart, use the function to only download the first 3 scans."
      ],
      "metadata": {
        "id": "Quoh1-AxZi8K"
      }
    },
    {
      "cell_type": "code",
      "source": [],
      "metadata": {
        "id": "U9CxTUzyZvI2"
      },
      "execution_count": null,
      "outputs": []
    },
    {
      "cell_type": "markdown",
      "source": [
        "# Quiz Answers\n",
        "\n",
        "### 1. Let's say you're a researcher interested in kidney cancer who wants to train a model that can predict proteomic subtypes from radiology images. Can you identify a kidney dataset that also has proteomics on the [Browse Collections](https://www.cancerimagingarchive.net/collections/) page? Once you've done so, click on the collection and find the link to download the manifest.  From there, can you demonstrate how to download the full collection using the manifest file with NBIA Data Retriever?\n",
        "\n",
        "**Note:** Since this is just for learning purposes, use the code we leveraged previously to shorten the manifest file to only download a few scans so it doesn't take as long to run."
      ],
      "metadata": {
        "id": "zUglPVv7AYCZ"
      }
    },
    {
      "cell_type": "code",
      "source": [
        "# install NBIA Data Retriever CLI software \n",
        "\n",
        "!mkdir /usr/share/desktop-directories/\n",
        "!wget -O /content/NBIA-Data-Retriever https://cbiit-download.nci.nih.gov/nbia/releases/ForTCIA/NBIADataRetriever_4.4/nbia-data-retriever-4.4.deb\n",
        "!dpkg -i /content/NBIA-Data-Retriever/nbia-data-retriever-4.4.deb"
      ],
      "metadata": {
        "id": "kSKnt9bODv4E"
      },
      "execution_count": null,
      "outputs": []
    },
    {
      "cell_type": "code",
      "source": [
        "# download the CPTAC-CCRCC manifest file\n",
        "\n",
        "import requests\n",
        "\n",
        "# download manifest file from CPTAC-CCRCC page\n",
        "manifest = requests.get(\"https://wiki.cancerimagingarchive.net/download/attachments/33948213/TCIA-CPTAC-CCRCC-batch8-Sep2019.tcia?version=2&amp;modificationDate=1569606470298&amp;api=v2\")\n",
        "with open('CPTAC-CCRCC.tcia', 'wb') as f:\n",
        "    f.write(manifest.content)"
      ],
      "metadata": {
        "id": "07_q7NlMGZJk"
      },
      "execution_count": null,
      "outputs": []
    },
    {
      "cell_type": "code",
      "source": [
        "# Run this cell to edit the manifest file to download only the first three scans.\n",
        "\n",
        "with open('CPTAC-CCRCC.tcia','r') as firstfile, open('CPTAC-CCRCC-Sample.tcia','a') as secondfile: \n",
        "    count = 0\n",
        "    for line in firstfile:\n",
        "        # append content to second file\n",
        "        secondfile.write(line)\n",
        "        # Stop after header and first 3 series UIDs\n",
        "        count += 1;\n",
        "        if count == 9:\n",
        "            break"
      ],
      "metadata": {
        "id": "I39iVErvGkIY"
      },
      "execution_count": null,
      "outputs": []
    },
    {
      "cell_type": "code",
      "source": [
        "# download the sample CPTAC-CCRCC data using NBIA Data Retriever\n",
        "\n",
        "!/opt/nbia-data-retriever/nbia-data-retriever --cli '/content/CPTAC-CCRCC-Sample.tcia' -d /content/"
      ],
      "metadata": {
        "id": "kX8UH0ZFGprp"
      },
      "execution_count": null,
      "outputs": []
    },
    {
      "cell_type": "markdown",
      "source": [
        "### 2. Let's say you are a researcher who wants to train a model to do tumor detection on mammograms.  Can you run an API query to find all mammogram data (modality = MG) and then figure out what the distribution of manufacturers are?  Once you've done that, can you download the mammograms for whichever manufacturer had the most data available? \n",
        "\n",
        "(**Note:** For the download, use the function that only downloads the first 3 scans so it completes quickly.)\n"
      ],
      "metadata": {
        "id": "D7-UZj6DDkXf"
      }
    },
    {
      "cell_type": "code",
      "source": [
        "# imports\n",
        "import requests\n",
        "import pandas as pd\n",
        "\n",
        "# download tcia_utils\n",
        "tcia_utils_text = requests.get(\"https://github.com/kirbyju/TCIA_Notebooks/raw/main/tcia_utils.py\")\n",
        "with open('tcia_utils.py', 'wb') as f:\n",
        "    f.write(tcia_utils_text.content)"
      ],
      "metadata": {
        "id": "p3zEqnxi9rk2"
      },
      "execution_count": null,
      "outputs": []
    },
    {
      "cell_type": "code",
      "source": [
        "# import tcia_utils \n",
        "import tcia_utils as tcia"
      ],
      "metadata": {
        "id": "zP4VRfgg-QXU"
      },
      "execution_count": null,
      "outputs": []
    },
    {
      "cell_type": "code",
      "source": [
        "# use getSeries to find all mammograms\n",
        "data = tcia.getSeries(modality = \"MG\")"
      ],
      "metadata": {
        "id": "M34I2o90kofo"
      },
      "execution_count": null,
      "outputs": []
    },
    {
      "cell_type": "code",
      "source": [
        "tcia.makeSeriesReport(data)"
      ],
      "metadata": {
        "id": "bEyvI4OHU3FC"
      },
      "execution_count": null,
      "outputs": []
    },
    {
      "cell_type": "code",
      "source": [
        "# use getSeries to find all mammograms from \"HOLOGIC, Inc.\"\n",
        "data = tcia.getSeries(modality = \"MG\", manufacturer = \"HOLOGIC, Inc.\")"
      ],
      "metadata": {
        "id": "ebomUl8mDwbI"
      },
      "execution_count": null,
      "outputs": []
    },
    {
      "cell_type": "code",
      "source": [
        "tcia.downloadSampleSeries(data)"
      ],
      "metadata": {
        "id": "k_bidrfQYEX0"
      },
      "execution_count": null,
      "outputs": []
    },
    {
      "cell_type": "markdown",
      "source": [
        "### 3. Let's say that you'd like to create a Shared Cart to includes a specific set of scans to share with others.  Use https://nbia.cancerimagingarchive.net to create a small \"[Shared Cart](https://wiki.cancerimagingarchive.net/display/NBIA/TCIA+Radiology+Portal+User+Guide#TCIARadiologyPortalUserGuide-SharingDatainYourCart)\" with scans of your choosing and then demonstrate how to download it via the API.  \n",
        "\n",
        "**Note:** Keep your cart small (e.g. 3-5 scans) so the download completes quickly, or if you created a large cart, use the function to only download the first 3 scans."
      ],
      "metadata": {
        "id": "srUPagYXDtSv"
      }
    },
    {
      "cell_type": "code",
      "source": [
        "# getSharedCart metadata (replace the name with your actual cart name)\n",
        "data = tcia.getSharedCart(name = \"nbia-49121659384603347\")\n",
        "print(len(data), 'Series returned')"
      ],
      "metadata": {
        "id": "Wdv62WPyhEg7"
      },
      "execution_count": null,
      "outputs": []
    },
    {
      "cell_type": "code",
      "source": [
        "# feed series_data to our downloadSampleSeries function\n",
        "df = tcia.downloadSampleSeries(data)\n",
        "display(df)"
      ],
      "metadata": {
        "id": "LlyJYA-rTlGY"
      },
      "execution_count": null,
      "outputs": []
    },
    {
      "cell_type": "markdown",
      "source": [
        "# Additional Resources\n",
        "The following pages on TCIA may be of special interest to deep learning researchers:\n",
        "\n",
        "1. [Finding Annotated Data for AI/ML on TCIA](https://wiki.cancerimagingarchive.net/x/TAGJAw) provides basic guidance for finding datasets that could be useful for deep learning tasks.\n",
        "2. [Challenge Competitions using TCIA data](https://wiki.cancerimagingarchive.net/x/nYIaAQ) can be useful for benchmarking your model's performance.\n",
        "3. [ACR Data Science Institute's Define AI Directory](https://www.acrdsi.org/DSI-Services/Define-AI) links clinically relevant AI use-cases to TCIA datasets that can be used to address them.\n",
        "4. [Additional TCIA Notebooks](https://github.com/kirbyju/TCIA_Notebooks) about accessing and visualizing data are available."
      ],
      "metadata": {
        "id": "rpt0pjo2s_Ho"
      }
    },
    {
      "cell_type": "markdown",
      "source": [
        "# Acknowledgements\n",
        "TCIA is funded by the [Cancer Imaging Program (CIP)](https://imaging.cancer.gov/), a part of the United States [National Cancer Institute (NCI)](https://www.cancer.gov/).  It is managed by the [Frederick National Laboratory for Cancer Research (FNLCR)](https://frederick.cancer.gov/) and hosted by the [University of Arkansas for Medical Sciences (UAMS)](https://www.uams.edu/)\n",
        "\n",
        "This notebook was created by [Justin Kirby](https://www.linkedin.com/in/justinkirby82/). If you leverage this notebook or any TCIA datasets in your work, please be sure to comply with the [TCIA Data Usage Policy](https://wiki.cancerimagingarchive.net/x/c4hF). In particular, make sure to cite the DOI(s) for the specific TCIA datasets you used in addition to the following paper!\n",
        "\n",
        "## TCIA Citation\n",
        "\n",
        "Clark, K., Vendt, B., Smith, K., Freymann, J., Kirby, J., Koppel, P., Moore, S., Phillips, S., Maffitt, D., Pringle, M., Tarbox, L., & Prior, F. (2013). The Cancer Imaging Archive (TCIA): Maintaining and Operating a Public Information Repository. Journal of Digital Imaging, 26(6), 1045–1057. https://doi.org/10.1007/s10278-013-9622-7"
      ],
      "metadata": {
        "id": "LMnX2nBD9cEH"
      }
    }
  ]
}